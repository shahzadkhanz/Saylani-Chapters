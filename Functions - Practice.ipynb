{
 "cells": [
  {
   "cell_type": "code",
   "execution_count": 2,
   "id": "f8edb6fb",
   "metadata": {},
   "outputs": [
    {
     "name": "stdout",
     "output_type": "stream",
     "text": [
      "Hi! This is function statement\n"
     ]
    }
   ],
   "source": [
    "def function():\n",
    "    print(\"Hi! This is function statement\")\n",
    "    \n",
    "function()"
   ]
  },
  {
   "cell_type": "code",
   "execution_count": 4,
   "id": "b02ee33c",
   "metadata": {},
   "outputs": [
    {
     "name": "stdout",
     "output_type": "stream",
     "text": [
      "Hi! This is function statement and provide calculation:  10\n"
     ]
    }
   ],
   "source": [
    "def function(a, b):\n",
    "    print(\"Hi! This is function statement and provide calculation: \", a+b)\n",
    "    \n",
    "function(5, 5)    "
   ]
  },
  {
   "cell_type": "markdown",
   "id": "a77b7254",
   "metadata": {},
   "source": [
    "### if we want to get return value of of def function in any variable then we must have to use return function"
   ]
  },
  {
   "cell_type": "code",
   "execution_count": 8,
   "id": "52597ace",
   "metadata": {},
   "outputs": [
    {
     "name": "stdout",
     "output_type": "stream",
     "text": [
      "Sum of function:  10\n"
     ]
    }
   ],
   "source": [
    "def function(a, b):\n",
    "    sum = (a+b)\n",
    "    return sum\n",
    "\n",
    "v = function(5, 5)\n",
    "print(\"Sum of function: \", v)"
   ]
  },
  {
   "cell_type": "code",
   "execution_count": 9,
   "id": "46471a3c",
   "metadata": {},
   "outputs": [
    {
     "name": "stdout",
     "output_type": "stream",
     "text": [
      "Average of function:  5.0\n"
     ]
    }
   ],
   "source": [
    "def function(a, b):\n",
    "    average = (a+b)/2\n",
    "    return average\n",
    "\n",
    "v = function(5, 5)\n",
    "print(\"Average of function: \", v)"
   ]
  },
  {
   "cell_type": "markdown",
   "id": "a3c6de9b",
   "metadata": {},
   "source": [
    "### adding doc string in def function for other peoples to know what is the purpose of this def function"
   ]
  },
  {
   "cell_type": "code",
   "execution_count": 16,
   "id": "37c8a804",
   "metadata": {},
   "outputs": [
    {
     "name": "stdout",
     "output_type": "stream",
     "text": [
      "Sum of function:  10\n"
     ]
    }
   ],
   "source": [
    "def function(a, b):\n",
    "    \"\"\"This function calculate sum of 2 numbers\"\"\"\n",
    "    \n",
    "    sum = (a+b)\n",
    "    return sum\n",
    "\n",
    "v = function(5, 5)\n",
    "print(\"Sum of function: \", v)"
   ]
  },
  {
   "cell_type": "code",
   "execution_count": 17,
   "id": "8e116203",
   "metadata": {},
   "outputs": [
    {
     "name": "stdout",
     "output_type": "stream",
     "text": [
      "1 2 (3, 4, 5, 6, 7)\n"
     ]
    },
    {
     "data": {
      "text/plain": [
       "28"
      ]
     },
     "execution_count": 17,
     "metadata": {},
     "output_type": "execute_result"
    }
   ],
   "source": [
    "def addition(a, b, *x):\n",
    "    print(a, b, x)\n",
    "    result = a + b\n",
    "   \n",
    "    for num in x:\n",
    "        result += num\n",
    "    \n",
    "    return result\n",
    "    \n",
    "addition(1,2,3,4,5,6,7)    "
   ]
  },
  {
   "cell_type": "markdown",
   "id": "2b1d1343",
   "metadata": {},
   "source": [
    "### Default function"
   ]
  },
  {
   "cell_type": "code",
   "execution_count": 18,
   "id": "5c599a99",
   "metadata": {},
   "outputs": [
    {
     "name": "stdout",
     "output_type": "stream",
     "text": [
      "Saylani Welfare Trust........\n",
      "Saylani Mass IT Training Programe.......\n",
      "Advance Artificial Intelligence & Data Sciences Batch 3 ............\n",
      "Monday & Friday\n",
      "09:00pm - 12:00am\n"
     ]
    }
   ],
   "source": [
    "def abc_default():\n",
    "    print(\"Saylani Welfare Trust........\")\n",
    "    print(\"Saylani Mass IT Training Programe.......\")\n",
    "    print(\"Advance Artificial Intelligence & Data Sciences Batch 3 ............\")\n",
    "    print(\"Monday & Friday\")\n",
    "    print(\"09:00pm - 12:00am\")\n",
    "    \n",
    "abc_default()"
   ]
  },
  {
   "cell_type": "markdown",
   "id": "c160f874",
   "metadata": {},
   "source": [
    "### Non - return function with required arguments"
   ]
  },
  {
   "cell_type": "code",
   "execution_count": 27,
   "id": "e79ad6c3",
   "metadata": {},
   "outputs": [
    {
     "data": {
      "text/plain": [
       "10"
      ]
     },
     "execution_count": 27,
     "metadata": {},
     "output_type": "execute_result"
    }
   ],
   "source": [
    "def addition(a,b):\n",
    "    return a + b\n",
    "    \n",
    "addition(1,7)    \n",
    "addition(8,2)"
   ]
  },
  {
   "cell_type": "markdown",
   "id": "b7b6eae8",
   "metadata": {},
   "source": [
    "### Return function with required arguments"
   ]
  },
  {
   "cell_type": "code",
   "execution_count": 24,
   "id": "fc39e848",
   "metadata": {},
   "outputs": [
    {
     "name": "stdout",
     "output_type": "stream",
     "text": [
      "50\n"
     ]
    }
   ],
   "source": [
    "def addition(a,b):\n",
    "    return a + b\n",
    "    \n",
    "abc = addition(20,30)\n",
    "print(abc)"
   ]
  },
  {
   "cell_type": "code",
   "execution_count": null,
   "id": "d2238885",
   "metadata": {},
   "outputs": [],
   "source": [
    "### function with required and defualt(optional) argument value"
   ]
  },
  {
   "cell_type": "code",
   "execution_count": 34,
   "id": "0717af52",
   "metadata": {},
   "outputs": [
    {
     "name": "stdout",
     "output_type": "stream",
     "text": [
      "9\n",
      "90\n",
      "12\n",
      "21\n",
      "124\n"
     ]
    },
    {
     "ename": "TypeError",
     "evalue": "addtiona2() takes from 2 to 5 positional arguments but 6 were given",
     "output_type": "error",
     "traceback": [
      "\u001b[1;31m---------------------------------------------------------------------------\u001b[0m",
      "\u001b[1;31mTypeError\u001b[0m                                 Traceback (most recent call last)",
      "Input \u001b[1;32mIn [34]\u001b[0m, in \u001b[0;36m<cell line: 9>\u001b[1;34m()\u001b[0m\n\u001b[0;32m      7\u001b[0m \u001b[38;5;28mprint\u001b[39m(addtiona2(\u001b[38;5;241m1\u001b[39m,\u001b[38;5;241m8\u001b[39m,\u001b[38;5;241m3\u001b[39m,\u001b[38;5;241m9\u001b[39m))\n\u001b[0;32m      8\u001b[0m \u001b[38;5;28mprint\u001b[39m(addtiona2(\u001b[38;5;241m1\u001b[39m,\u001b[38;5;241m8\u001b[39m,\u001b[38;5;241m3\u001b[39m,\u001b[38;5;241m22\u001b[39m,\u001b[38;5;241m90\u001b[39m))\n\u001b[1;32m----> 9\u001b[0m \u001b[38;5;28mprint\u001b[39m(\u001b[43maddtiona2\u001b[49m\u001b[43m(\u001b[49m\u001b[38;5;241;43m1\u001b[39;49m\u001b[43m,\u001b[49m\u001b[38;5;241;43m8\u001b[39;49m\u001b[43m,\u001b[49m\u001b[38;5;241;43m3\u001b[39;49m\u001b[43m,\u001b[49m\u001b[38;5;241;43m22\u001b[39;49m\u001b[43m,\u001b[49m\u001b[38;5;241;43m90\u001b[39;49m\u001b[43m,\u001b[49m\u001b[38;5;241;43m99\u001b[39;49m\u001b[43m)\u001b[49m)\n",
      "\u001b[1;31mTypeError\u001b[0m: addtiona2() takes from 2 to 5 positional arguments but 6 were given"
     ]
    }
   ],
   "source": [
    "def addtiona2(num1,num2,num3=0, num4=0, num5=0):\n",
    "    return num1 + num2 + num3 + num4 + num5\n",
    "\n",
    "print(addtiona2(1,8))\n",
    "print(addtiona2(2,88))\n",
    "print(addtiona2(1,8,3))\n",
    "print(addtiona2(1,8,3,9))\n",
    "print(addtiona2(1,8,3,22,90))\n",
    "# print(addtiona2(1,8,3,22,90,99)) error found as total argument must be = 5 but given argument = 6\n",
    "# print(addtiona2(num2=1)) error found due to 1 value missing\n",
    "# above every condition is true and found result as some default values are optional"
   ]
  },
  {
   "cell_type": "code",
   "execution_count": 31,
   "id": "8654c4a0",
   "metadata": {},
   "outputs": [
    {
     "ename": "TypeError",
     "evalue": "addtiona2() missing 1 required positional argument: 'num3'",
     "output_type": "error",
     "traceback": [
      "\u001b[1;31m---------------------------------------------------------------------------\u001b[0m",
      "\u001b[1;31mTypeError\u001b[0m                                 Traceback (most recent call last)",
      "Input \u001b[1;32mIn [31]\u001b[0m, in \u001b[0;36m<cell line: 4>\u001b[1;34m()\u001b[0m\n\u001b[0;32m      1\u001b[0m \u001b[38;5;28;01mdef\u001b[39;00m \u001b[38;5;21maddtiona2\u001b[39m(num1,num2,num3):\n\u001b[0;32m      2\u001b[0m     \u001b[38;5;28;01mreturn\u001b[39;00m num1 \u001b[38;5;241m+\u001b[39m num2 \u001b[38;5;241m+\u001b[39m num3\n\u001b[1;32m----> 4\u001b[0m \u001b[38;5;28mprint\u001b[39m(\u001b[43maddtiona2\u001b[49m\u001b[43m(\u001b[49m\u001b[38;5;241;43m1\u001b[39;49m\u001b[43m,\u001b[49m\u001b[38;5;241;43m8\u001b[39;49m\u001b[43m)\u001b[49m)\n",
      "\u001b[1;31mTypeError\u001b[0m: addtiona2() missing 1 required positional argument: 'num3'"
     ]
    }
   ],
   "source": [
    "def addtiona2(num1,num2,num3):\n",
    "    return num1 + num2 + num3\n",
    "\n",
    "print(addtiona2(1,8)) \n",
    "\n",
    "# above condition is False and found error in result as all input values are mendatory and nothing is optional"
   ]
  },
  {
   "cell_type": "markdown",
   "id": "4f0a3438",
   "metadata": {},
   "source": [
    "### Positional Argument"
   ]
  },
  {
   "cell_type": "code",
   "execution_count": 35,
   "id": "044f55e0",
   "metadata": {},
   "outputs": [
    {
     "name": "stdout",
     "output_type": "stream",
     "text": [
      "num1 11 + num2 20 + num3 1 + num4 7  + num5 5 = 44\n"
     ]
    },
    {
     "data": {
      "text/plain": [
       "44"
      ]
     },
     "execution_count": 35,
     "metadata": {},
     "output_type": "execute_result"
    }
   ],
   "source": [
    "def addition2(num1,num2,num3=0, num4=0, num5=0):\n",
    "    print(f\"num1 {num1} + num2 {num2} + num3 {num3} + num4 {num4}  + num5 {num5} = {num1+num2+num3+num4+num5}\")\n",
    "    return num1 + num2 + num3 + num4 + num5\n",
    "\n",
    "addition2(num3=1, num2=20, num5=5, num4=7, num1=11)"
   ]
  },
  {
   "cell_type": "code",
   "execution_count": 36,
   "id": "2f8e5830",
   "metadata": {},
   "outputs": [
    {
     "name": "stdout",
     "output_type": "stream",
     "text": [
      "num1 1 + num2 5 + num3 10 + num4 15  + num5 20 = 51\n"
     ]
    },
    {
     "data": {
      "text/plain": [
       "51"
      ]
     },
     "execution_count": 36,
     "metadata": {},
     "output_type": "execute_result"
    }
   ],
   "source": [
    "addition2(1, 5, 10, 15, 20)"
   ]
  },
  {
   "cell_type": "code",
   "execution_count": 37,
   "id": "92ee6f5e",
   "metadata": {},
   "outputs": [
    {
     "data": {
      "text/plain": [
       "'E:\\\\Repositeries\\\\Saylani-Chapters'"
      ]
     },
     "execution_count": 37,
     "metadata": {},
     "output_type": "execute_result"
    }
   ],
   "source": [
    "pwd()"
   ]
  },
  {
   "cell_type": "markdown",
   "id": "00ad341f",
   "metadata": {},
   "source": [
    "# Passing a List as an Argument\n",
    "\n",
    "### You can send any data types of argument to a function (string, number, list, dictionary etc.), and it will be treated as the same data type inside the function.\n",
    "\n",
    "### E.g. if you send a List as an argument, it will still be a List when it reaches the function:"
   ]
  },
  {
   "cell_type": "code",
   "execution_count": 42,
   "id": "bbab1fac",
   "metadata": {},
   "outputs": [
    {
     "name": "stdout",
     "output_type": "stream",
     "text": [
      "Red Chilli\n",
      "Green Chilli\n",
      "Cocumber\n"
     ]
    }
   ],
   "source": [
    "def my_function(food):\n",
    "    for x in food:\n",
    "        print(x)\n",
    "\n",
    "veg = [\"Red Chilli\", \"Green Chilli\", \"Cocumber\"]\n",
    "\n",
    "my_function(veg)"
   ]
  },
  {
   "cell_type": "code",
   "execution_count": null,
   "id": "fae2e7ae",
   "metadata": {},
   "outputs": [],
   "source": []
  },
  {
   "cell_type": "code",
   "execution_count": 41,
   "id": "786776d8",
   "metadata": {},
   "outputs": [
    {
     "name": "stdout",
     "output_type": "stream",
     "text": [
      "15\n",
      "25\n",
      "50\n"
     ]
    }
   ],
   "source": [
    "def my_function(x):\n",
    "    return 5 * x\n",
    "\n",
    "print(my_function(3))\n",
    "print(my_function(5))\n",
    "print(my_function(10))"
   ]
  },
  {
   "cell_type": "markdown",
   "id": "0157e48b",
   "metadata": {},
   "source": [
    "## Arbitrary Arguments, *args\n",
    "\n",
    "### If the number of arguments is unknown, add a * before the parameter name:"
   ]
  },
  {
   "cell_type": "code",
   "execution_count": 43,
   "id": "47aa5bfc",
   "metadata": {},
   "outputs": [
    {
     "name": "stdout",
     "output_type": "stream",
     "text": [
      "The youngest child is Harry\n"
     ]
    }
   ],
   "source": [
    "def my_function(*kids):\n",
    "    print(\"The youngest child is \" + kids[0])\n",
    "\n",
    "my_function(\"Harry\", \"Marry\", \"Larry\", \"Tarry\")"
   ]
  },
  {
   "cell_type": "markdown",
   "id": "9bed1663",
   "metadata": {},
   "source": [
    "## Keyword Arguments\n",
    "### You can also send arguments with the key = value syntax.\n",
    "### This way the order of the arguments does not matter."
   ]
  },
  {
   "cell_type": "code",
   "execution_count": 46,
   "id": "2739885d",
   "metadata": {},
   "outputs": [
    {
     "name": "stdout",
     "output_type": "stream",
     "text": [
      "The youngest child is Tarry\n"
     ]
    }
   ],
   "source": [
    "def my_function(child3, child1, child2, child4):\n",
    "    print(\"The youngest child is \" + child4)\n",
    "\n",
    "my_function(child1 = \"Harry\", child2 = \"Marry\", child3 = \"Larry\", child4 = \"Tarry\")"
   ]
  },
  {
   "cell_type": "markdown",
   "id": "0b141595",
   "metadata": {},
   "source": [
    "# Arbitrary Keyword Arguments, **kwargs\n",
    "\n",
    "### If you do not know how many keyword arguments that will be passed into your function, add two asterisk: ** before the parameter name in the function definition.\n",
    "\n",
    "### This way the function will receive a dictionary of arguments, and can access the items accordingly:"
   ]
  },
  {
   "cell_type": "code",
   "execution_count": 49,
   "id": "8af4602d",
   "metadata": {},
   "outputs": [
    {
     "name": "stdout",
     "output_type": "stream",
     "text": [
      "His last name is Harry\n"
     ]
    }
   ],
   "source": [
    "def my_function(**kid):\n",
    "    print(\"His last name is \" + kid[\"fname\"])\n",
    "\n",
    "my_function(fname = \"Harry\", lname = \"Porter\")"
   ]
  },
  {
   "cell_type": "code",
   "execution_count": null,
   "id": "e5b20b4e",
   "metadata": {},
   "outputs": [],
   "source": []
  }
 ],
 "metadata": {
  "kernelspec": {
   "display_name": "Python 3 (ipykernel)",
   "language": "python",
   "name": "python3"
  },
  "language_info": {
   "codemirror_mode": {
    "name": "ipython",
    "version": 3
   },
   "file_extension": ".py",
   "mimetype": "text/x-python",
   "name": "python",
   "nbconvert_exporter": "python",
   "pygments_lexer": "ipython3",
   "version": "3.9.12"
  }
 },
 "nbformat": 4,
 "nbformat_minor": 5
}
