{
 "cells": [
  {
   "cell_type": "markdown",
   "id": "882dd2fc",
   "metadata": {},
   "source": [
    "## if, elif, else"
   ]
  },
  {
   "cell_type": "code",
   "execution_count": 2,
   "id": "40136d38",
   "metadata": {},
   "outputs": [
    {
     "name": "stdout",
     "output_type": "stream",
     "text": [
      "60\n",
      "Greater\n"
     ]
    }
   ],
   "source": [
    "var1 = 20\n",
    "var2 = 56\n",
    "var3 = int(input())\n",
    "\n",
    "if var3>var2:\n",
    "    print(\"Greater\")\n",
    "else:\n",
    "    print(\"Lesser\")"
   ]
  },
  {
   "cell_type": "code",
   "execution_count": 3,
   "id": "2055d743",
   "metadata": {},
   "outputs": [
    {
     "name": "stdout",
     "output_type": "stream",
     "text": [
      "10\n",
      "Lesser\n"
     ]
    }
   ],
   "source": [
    "var1 = 20\n",
    "var2 = 56\n",
    "var3 = int(input())\n",
    "\n",
    "if var3>var2:\n",
    "    print(\"Greater\")\n",
    "elif var3==var2:\n",
    "    print(\"Equal\")  \n",
    "else:\n",
    "    print(\"Lesser\")"
   ]
  },
  {
   "cell_type": "code",
   "execution_count": null,
   "id": "e28909a8",
   "metadata": {},
   "outputs": [],
   "source": [
    "list = [\"Breakfast\",\"Namaz\",\"Lunch\",\"Namaz\",\"Dinner\"]\n",
    "# if \"Breakfast\" in list:   use 'in' function to check availability of item in list.\n",
    "# if \"breakfast\" not in list: use 'not in' function to check unavailability of item in list.\n",
    "    print(\"Yes its not in the list\")"
   ]
  },
  {
   "cell_type": "code",
   "execution_count": 4,
   "id": "6373fe99",
   "metadata": {},
   "outputs": [
    {
     "name": "stdout",
     "output_type": "stream",
     "text": [
      "What is your age: \n",
      "21\n",
      "'you can drive'\n"
     ]
    }
   ],
   "source": [
    "## Quiz\n",
    "print(\"What is your age: \")\n",
    "age = int(input())\n",
    "\n",
    "if age>18:\n",
    "    print(\"'you can drive'\")\n",
    "elif age==18:\n",
    "    print(\"'you can come so we will decide that you may drive or not'\")\n",
    "else:\n",
    "    print(\"'you can not drive'\")"
   ]
  },
  {
   "cell_type": "code",
   "execution_count": 6,
   "id": "a2da0d17",
   "metadata": {},
   "outputs": [
    {
     "name": "stdout",
     "output_type": "stream",
     "text": [
      "77\n",
      "Maths:  77\n",
      "80\n",
      "Science:  80\n",
      "90\n",
      "Accounts:  90\n",
      "Total Marks:  247\n",
      "A++\n"
     ]
    }
   ],
   "source": [
    "mat = int(input())\n",
    "print(\"Maths: \", mat)\n",
    "sci = int(input())\n",
    "print(\"Science: \", sci)\n",
    "acc = int(input())\n",
    "print(\"Accounts: \", acc)\n",
    "tot_marks = (mat+sci+acc)\n",
    "print(\"Total Marks: \", tot_marks)\n",
    "if tot_marks<33:\n",
    "    print(\"Fail\")\n",
    "elif tot_marks>0 and tot_marks<=33:\n",
    "    print(\"E\")\n",
    "elif tot_marks>33 and tot_marks<=50:\n",
    "    print(\"D\")\n",
    "elif tot_marks>50 and tot_marks<=60:\n",
    "    print(\"C\")\n",
    "elif tot_marks>60 and tot_marks<=70:\n",
    "    print(\"B\")\n",
    "elif tot_marks>70 and tot_marks<=80:\n",
    "    print(\"A\")\n",
    "elif tot_marks>80 and tot_marks<=90:\n",
    "    print(\"A+\")\n",
    "else:\n",
    "    print(\"A++\")"
   ]
  },
  {
   "cell_type": "code",
   "execution_count": 8,
   "id": "3d59b12f",
   "metadata": {},
   "outputs": [
    {
     "name": "stdout",
     "output_type": "stream",
     "text": [
      "['Namaz', 'Lunch']\n",
      "['breakfast']\n"
     ]
    }
   ],
   "source": [
    "list = ['breakfast','Namaz','Lunch']\n",
    "list1=[]\n",
    "list.remove('breakfast')\n",
    "print(list)\n",
    "list1.append('breakfast')\n",
    "print(list1)"
   ]
  },
  {
   "cell_type": "code",
   "execution_count": 7,
   "id": "f7c88046",
   "metadata": {},
   "outputs": [
    {
     "name": "stdout",
     "output_type": "stream",
     "text": [
      "85\n",
      "82\n",
      "90\n",
      "88\n",
      "79\n",
      "\n",
      "\n",
      "---------------------------------- University of Karachi -------------------------------\n",
      "\n",
      "Name: Shahzad Khan              Father's Name: Shabbir Khan           Roll No: 2000018                \n",
      "\n",
      "Subject          Obtain Marks           Total Marks          Percentage\n",
      "----------------------------------------------------------------------------------------\n",
      "Accounts             85                   100                  85.0                                                   \n",
      "Maths                82                   100                  82.0\n",
      "Islamiat             90                   100                  90.0\n",
      "English              88                   100                  85.0\n",
      "Pakistan Studies     79                   100                  85.0\n",
      "\n",
      "----------------------------------------------------------------------------------------- \n",
      "Obtained Marks =  424        Out Of =  500         Aggregate % = 84.8\n",
      "-----------------------------------------------------------------------------------------\n",
      "\n"
     ]
    }
   ],
   "source": [
    "nam = \"Shahzad Khan\"\n",
    "f_n = \"Shabbir Khan\"\n",
    "rol_no = \"2000018\"\n",
    "Dep = \"Department of Mathamatics\"\n",
    "tot_mar = int(100)\n",
    "\n",
    "a = int(input())\n",
    "b = int(input())\n",
    "c = int(input())\n",
    "d = int(input())\n",
    "e = int(input())\n",
    "\n",
    "per_a = (a/tot_mar)*100\n",
    "per_b = (b/tot_mar)*100\n",
    "per_c = (c/tot_mar)*100\n",
    "per_d = (a/tot_mar)*100\n",
    "per_e = (a/tot_mar)*100\n",
    "\n",
    "obt_mar = (a+b+c+d+e)\n",
    "per = (obt_mar/500)*100\n",
    "\n",
    "mark_sheet = f'''\n",
    "\n",
    "---------------------------------- University of Karachi -------------------------------\n",
    "\n",
    "Name: {nam}              Father's Name: {f_n}           Roll No: {rol_no}                \n",
    "\n",
    "Subject          Obtain Marks           Total Marks          Percentage\n",
    "----------------------------------------------------------------------------------------\n",
    "Accounts             {a}                   {tot_mar}                  {per_a}                                                   \n",
    "Maths                {b}                   {tot_mar}                  {per_b}\n",
    "Islamiat             {c}                   {tot_mar}                  {per_c}\n",
    "English              {d}                   {tot_mar}                  {per_d}\n",
    "Pakistan Studies     {e}                   {tot_mar}                  {per_e}\n",
    "\n",
    "----------------------------------------------------------------------------------------- \n",
    "\n",
    "Obtained Marks =  {obt_mar}        Out Of =  {500}         Aggregate % = {per}\n",
    "-----------------------------------------------------------------------------------------\n",
    "'''\n",
    "print(mark_sheet)\n"
   ]
  },
  {
   "cell_type": "code",
   "execution_count": 51,
   "id": "39dcf501",
   "metadata": {},
   "outputs": [
    {
     "name": "stdout",
     "output_type": "stream",
     "text": [
      "Input 1st Value: 2\n",
      "Enter Your Choice Operator *\n",
      "Input 2nd Value: 2\n",
      "Result:  4\n",
      "\n",
      "\n",
      "------------------------------\"Calculator\"----------------------------\n",
      "----------------------- Designed By Shahzad Khan ---------------------\n",
      "\n",
      "1st Value: 2\n",
      "2nd Value: 2\n",
      "Computation Operator: *\n",
      "\n",
      "\n",
      "\n",
      "----------------------------------------------------------------------\n",
      "\n",
      "*  Multiplications\n",
      "/  Division       \n",
      "-  Substraction   \n",
      "+  Addition      \n",
      "** Power\n",
      "%  Modulus\n",
      "\n",
      "\n",
      "\n",
      "\n"
     ]
    }
   ],
   "source": [
    "a = int(input(\"Input 1st Value: \"))\n",
    "c = input(\"Enter Your Choice Operator \")\n",
    "b = int(input(\"Input 2nd Value: \"))\n",
    "\n",
    "\n",
    "\n",
    "cal = f'''\n",
    "\n",
    "------------------------------\"Calculator\"----------------------------\n",
    "----------------------- Designed By Shahzad Khan ---------------------\n",
    "\n",
    "1st Value: {a}\n",
    "2nd Value: {b}\n",
    "Computation Operator: {c}\n",
    "\n",
    "\n",
    "\n",
    "----------------------------------------------------------------------\n",
    "\n",
    "*  Multiplications\n",
    "/  Division       \n",
    "-  Substraction   \n",
    "+  Addition      \n",
    "** Power\n",
    "%  Modulus\n",
    "\n",
    "\n",
    "\n",
    "'''\n",
    "\n",
    "if a == 45 and b == 3 and c == '*':\n",
    "    print(\"Result: 555\")\n",
    "elif a == 56 and b == 9 and c == '+':\n",
    "    print(\"Result: 77\")\n",
    "elif a == 56 and b == 6 and c == '/':\n",
    "    print(\"Result: 4\")   \n",
    "elif c == '+':\n",
    "    print(\"Result: \", a+b)\n",
    "elif c == '-':\n",
    "    print(\"Result: \", a-b)\n",
    "elif c == '/':\n",
    "    print(\"Result: \", a/b)\n",
    "elif c == '*':\n",
    "    print(\"Result: \", a*b)  \n",
    "elif c == '/':\n",
    "    print(\"Result: \", a**b)\n",
    "elif c == '%':\n",
    "    print(\"Result: \", a%b)\n",
    "else:\n",
    "    print(\"Computation\")\n",
    "    \n",
    "print(cal)"
   ]
  },
  {
   "cell_type": "code",
   "execution_count": 20,
   "id": "3e0d7069",
   "metadata": {},
   "outputs": [
    {
     "name": "stdout",
     "output_type": "stream",
     "text": [
      "{'Shahzad': 'Burger', 'Khan': 'Haleem', 'Mohsin': 'Broast'}\n"
     ]
    }
   ],
   "source": [
    "d = {\"Shahzad\" : \"Burger\", \"Khan\" : \"Daal\", \"Mohsin\" : \"Broast\"}\n",
    "# print(type(d))\n",
    "d[\"Khan\"] = \"Haleem\"\n",
    "print(d)"
   ]
  },
  {
   "cell_type": "markdown",
   "id": "4a864717",
   "metadata": {},
   "source": [
    "# Loops\n",
    "\n",
    "### for loops"
   ]
  },
  {
   "cell_type": "code",
   "execution_count": 4,
   "id": "c05e2f34",
   "metadata": {},
   "outputs": [
    {
     "name": "stdout",
     "output_type": "stream",
     "text": [
      "2\n",
      "*\n",
      "2\n",
      "4\n",
      "\n",
      "\n",
      "------------------------------------------------ Calculator ---------------------------------------------\n",
      "------------------------------------- Design by SK - Batch 3 Saylani ------------------------------------\n",
      "\n",
      "\n",
      "\n",
      "Enter 1st Value: |  2  | ------- Enter Computational Operator: |*| -------  Enter 2nd Value: |  2  |                           \n",
      "\n",
      "\n",
      "\n",
      "-------------------------------------  Answer is = |   4   |----------------------------------------\n",
      "\n",
      "\n",
      "*  Multiplications\n",
      "/  Division       \n",
      "-  Substraction   \n",
      "+  Addition      \n",
      "** Power\n",
      "%  Modulus\n",
      "\n",
      "\n",
      "\n"
     ]
    }
   ],
   "source": [
    "a = int(input())\n",
    "c = input()\n",
    "b = int(input())\n",
    " \n",
    "\n",
    "\n",
    "if c == '+':\n",
    "    d = (a+b)\n",
    "    print(d)   \n",
    "elif c == '-':\n",
    "    d = (a-b)\n",
    "    print(d)\n",
    "elif c == '*':\n",
    "    d = (a*b)\n",
    "    print(d)\n",
    "elif c == '/':\n",
    "    d = (a/b)\n",
    "    print(d)\n",
    "elif c == '%':\n",
    "    d = (a%b)\n",
    "    print(d)\n",
    "elif c == '**':\n",
    "    d = (a**b)\n",
    "    print(d)\n",
    "else:\n",
    "    print(\"Enter Correct Values\")\n",
    "\n",
    "    \n",
    "cal = f'''\n",
    "\n",
    "------------------------------------------------ Calculator ---------------------------------------------\n",
    "------------------------------------- Design by SK - Batch 3 Saylani ------------------------------------\n",
    "\n",
    "\n",
    "\n",
    "Enter 1st Value: |  {a}  | ------- Enter Computational Operator: |{c}| -------  Enter 2nd Value: |  {b}  |                           \n",
    "\n",
    "\n",
    "\n",
    "-------------------------------------  Answer is = |   { d }   |----------------------------------------\n",
    "\n",
    "\n",
    "*  Multiplications\n",
    "/  Division       \n",
    "-  Substraction   \n",
    "+  Addition      \n",
    "** Power\n",
    "%  Modulus\n",
    "\n",
    "\n",
    "'''    \n",
    "    \n",
    "    \n",
    "\n",
    "print(cal)"
   ]
  },
  {
   "cell_type": "code",
   "execution_count": 7,
   "id": "a9b7ddc9",
   "metadata": {},
   "outputs": [
    {
     "name": "stdout",
     "output_type": "stream",
     "text": [
      "2\n",
      "*\n",
      "2\n",
      "4\n",
      "\n",
      "\n",
      "------------------------------------------------ Calculator ---------------------------------------------\n",
      "------------------------------------- Design by SK - Batch 3 Saylani ------------------------------------\n",
      "\n",
      "\n",
      "\n",
      "Enter 1st Value: |  2  | ------- Enter Computational Operator: |*| -------  Enter 2nd Value: |  2  |                           \n",
      "\n",
      "\n",
      "\n",
      "-------------------------------------  Answer is = |   40   |----------------------------------------\n",
      "\n",
      "\n",
      "*  Multiplications\n",
      "/  Division       \n",
      "-  Substraction   \n",
      "+  Addition      \n",
      "** Power\n",
      "%  Modulus\n",
      "\n",
      "\n",
      "\n"
     ]
    }
   ],
   "source": [
    "a = int(input())\n",
    "c = input()\n",
    "b = int(input())\n",
    "global d \n",
    "\n",
    "cal = f'''\n",
    "\n",
    "------------------------------------------------ Calculator ---------------------------------------------\n",
    "------------------------------------- Design by SK - Batch 3 Saylani ------------------------------------\n",
    "\n",
    "\n",
    "\n",
    "Enter 1st Value: |  {a}  | ------- Enter Computational Operator: |{c}| -------  Enter 2nd Value: |  {b}  |                           \n",
    "\n",
    "\n",
    "\n",
    "-------------------------------------  Answer is = |   { d }   |----------------------------------------\n",
    "\n",
    "\n",
    "*  Multiplications\n",
    "/  Division       \n",
    "-  Substraction   \n",
    "+  Addition      \n",
    "** Power\n",
    "%  Modulus\n",
    "\n",
    "\n",
    "'''    \n",
    "    \n",
    "   \n",
    "    \n",
    "if c == '+':\n",
    "    d = (a+b)\n",
    "    print(d)   \n",
    "elif c == '-':\n",
    "    d = (a-b)\n",
    "    print(d)\n",
    "elif c == '*':\n",
    "    d = (a*b)\n",
    "    print(d)\n",
    "elif c == '/':\n",
    "    d = (a/b)\n",
    "    print(d)\n",
    "elif c == '%':\n",
    "    d = (a%b)\n",
    "    print(d)\n",
    "elif c == '**':\n",
    "    d = (a**b)\n",
    "    print(d)\n",
    "else:\n",
    "    print(\"Enter Correct Values\")\n",
    "\n",
    "    \n",
    "    \n",
    "\n",
    "print(cal)"
   ]
  },
  {
   "cell_type": "code",
   "execution_count": null,
   "id": "3b0fa681",
   "metadata": {},
   "outputs": [],
   "source": []
  }
 ],
 "metadata": {
  "kernelspec": {
   "display_name": "Python 3 (ipykernel)",
   "language": "python",
   "name": "python3"
  },
  "language_info": {
   "codemirror_mode": {
    "name": "ipython",
    "version": 3
   },
   "file_extension": ".py",
   "mimetype": "text/x-python",
   "name": "python",
   "nbconvert_exporter": "python",
   "pygments_lexer": "ipython3",
   "version": "3.9.12"
  }
 },
 "nbformat": 4,
 "nbformat_minor": 5
}
