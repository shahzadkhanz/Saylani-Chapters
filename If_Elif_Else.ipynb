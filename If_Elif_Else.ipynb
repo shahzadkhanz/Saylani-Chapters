{
 "cells": [
  {
   "cell_type": "markdown",
   "id": "882dd2fc",
   "metadata": {},
   "source": [
    "## if, elif, else"
   ]
  },
  {
   "cell_type": "code",
   "execution_count": 2,
   "id": "40136d38",
   "metadata": {},
   "outputs": [
    {
     "name": "stdout",
     "output_type": "stream",
     "text": [
      "60\n",
      "Greater\n"
     ]
    }
   ],
   "source": [
    "var1 = 20\n",
    "var2 = 56\n",
    "var3 = int(input())\n",
    "\n",
    "if var3>var2:\n",
    "    print(\"Greater\")\n",
    "else:\n",
    "    print(\"Lesser\")"
   ]
  },
  {
   "cell_type": "code",
   "execution_count": 3,
   "id": "2055d743",
   "metadata": {},
   "outputs": [
    {
     "name": "stdout",
     "output_type": "stream",
     "text": [
      "10\n",
      "Lesser\n"
     ]
    }
   ],
   "source": [
    "var1 = 20\n",
    "var2 = 56\n",
    "var3 = int(input())\n",
    "\n",
    "if var3>var2:\n",
    "    print(\"Greater\")\n",
    "elif var3==var2:\n",
    "    print(\"Equal\")  \n",
    "else:\n",
    "    print(\"Lesser\")"
   ]
  },
  {
   "cell_type": "code",
   "execution_count": null,
   "id": "e28909a8",
   "metadata": {},
   "outputs": [],
   "source": [
    "list = [\"Breakfast\",\"Namaz\",\"Lunch\",\"Namaz\",\"Dinner\"]\n",
    "# if \"Breakfast\" in list:   use 'in' function to check availability of item in list.\n",
    "# if \"breakfast\" not in list: use 'not in' function to check unavailability of item in list.\n",
    "    print(\"Yes its not in the list\")"
   ]
  },
  {
   "cell_type": "code",
   "execution_count": 4,
   "id": "6373fe99",
   "metadata": {},
   "outputs": [
    {
     "name": "stdout",
     "output_type": "stream",
     "text": [
      "What is your age: \n",
      "21\n",
      "'you can drive'\n"
     ]
    }
   ],
   "source": [
    "## Quiz\n",
    "print(\"What is your age: \")\n",
    "age = int(input())\n",
    "\n",
    "if age>18:\n",
    "    print(\"'you can drive'\")\n",
    "elif age==18:\n",
    "    print(\"'you can come so we will decide that you may drive or not'\")\n",
    "else:\n",
    "    print(\"'you can not drive'\")"
   ]
  },
  {
   "cell_type": "code",
   "execution_count": 6,
   "id": "a2da0d17",
   "metadata": {},
   "outputs": [
    {
     "name": "stdout",
     "output_type": "stream",
     "text": [
      "77\n",
      "Maths:  77\n",
      "80\n",
      "Science:  80\n",
      "90\n",
      "Accounts:  90\n",
      "Total Marks:  247\n",
      "A++\n"
     ]
    }
   ],
   "source": [
    "mat = int(input())\n",
    "print(\"Maths: \", mat)\n",
    "sci = int(input())\n",
    "print(\"Science: \", sci)\n",
    "acc = int(input())\n",
    "print(\"Accounts: \", acc)\n",
    "tot_marks = (mat+sci+acc)\n",
    "print(\"Total Marks: \", tot_marks)\n",
    "if tot_marks<33:\n",
    "    print(\"Fail\")\n",
    "elif tot_marks>0 and tot_marks<=33:\n",
    "    print(\"E\")\n",
    "elif tot_marks>33 and tot_marks<=50:\n",
    "    print(\"D\")\n",
    "elif tot_marks>50 and tot_marks<=60:\n",
    "    print(\"C\")\n",
    "elif tot_marks>60 and tot_marks<=70:\n",
    "    print(\"B\")\n",
    "elif tot_marks>70 and tot_marks<=80:\n",
    "    print(\"A\")\n",
    "elif tot_marks>80 and tot_marks<=90:\n",
    "    print(\"A+\")\n",
    "else:\n",
    "    print(\"A++\")"
   ]
  },
  {
   "cell_type": "code",
   "execution_count": 8,
   "id": "3d59b12f",
   "metadata": {},
   "outputs": [
    {
     "name": "stdout",
     "output_type": "stream",
     "text": [
      "['Namaz', 'Lunch']\n",
      "['breakfast']\n"
     ]
    }
   ],
   "source": [
    "list = ['breakfast','Namaz','Lunch']\n",
    "list1=[]\n",
    "list.remove('breakfast')\n",
    "print(list)\n",
    "list1.append('breakfast')\n",
    "print(list1)"
   ]
  },
  {
   "cell_type": "code",
   "execution_count": null,
   "id": "f7c88046",
   "metadata": {},
   "outputs": [],
   "source": []
  },
  {
   "cell_type": "code",
   "execution_count": null,
   "id": "39dcf501",
   "metadata": {},
   "outputs": [],
   "source": [
    "|"
   ]
  }
 ],
 "metadata": {
  "kernelspec": {
   "display_name": "Python 3 (ipykernel)",
   "language": "python",
   "name": "python3"
  },
  "language_info": {
   "codemirror_mode": {
    "name": "ipython",
    "version": 3
   },
   "file_extension": ".py",
   "mimetype": "text/x-python",
   "name": "python",
   "nbconvert_exporter": "python",
   "pygments_lexer": "ipython3",
   "version": "3.9.12"
  }
 },
 "nbformat": 4,
 "nbformat_minor": 5
}
