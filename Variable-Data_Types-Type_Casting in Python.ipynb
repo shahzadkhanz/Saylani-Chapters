{
 "cells": [
  {
   "cell_type": "markdown",
   "id": "77052d3c",
   "metadata": {},
   "source": [
    "# Variable are like placeholder / container"
   ]
  },
  {
   "cell_type": "code",
   "execution_count": 12,
   "id": "9af15ac8",
   "metadata": {},
   "outputs": [
    {
     "name": "stdout",
     "output_type": "stream",
     "text": [
      "<class 'str'>\n",
      "<class 'int'>\n",
      "<class 'float'>\n"
     ]
    }
   ],
   "source": [
    "var1 = \"Hello World\"\n",
    "var2 = 4\n",
    "var3 = 36.5\n",
    "print(type(var1))\n",
    "print(type(var2))\n",
    "print(type(var3))"
   ]
  },
  {
   "cell_type": "markdown",
   "id": "c5da3cc4",
   "metadata": {},
   "source": [
    "# Concatinate"
   ]
  },
  {
   "cell_type": "code",
   "execution_count": 13,
   "id": "6a12e515",
   "metadata": {},
   "outputs": [
    {
     "ename": "TypeError",
     "evalue": "can only concatenate str (not \"int\") to str",
     "output_type": "error",
     "traceback": [
      "\u001b[1;31m---------------------------------------------------------------------------\u001b[0m",
      "\u001b[1;31mTypeError\u001b[0m                                 Traceback (most recent call last)",
      "Input \u001b[1;32mIn [13]\u001b[0m, in \u001b[0;36m<cell line: 4>\u001b[1;34m()\u001b[0m\n\u001b[0;32m      2\u001b[0m var2 \u001b[38;5;241m=\u001b[39m \u001b[38;5;241m4\u001b[39m\n\u001b[0;32m      3\u001b[0m var3 \u001b[38;5;241m=\u001b[39m \u001b[38;5;241m36.5\u001b[39m\n\u001b[1;32m----> 4\u001b[0m \u001b[38;5;28mprint\u001b[39m(\u001b[43mvar1\u001b[49m\u001b[43m \u001b[49m\u001b[38;5;241;43m+\u001b[39;49m\u001b[43m \u001b[49m\u001b[43mvar2\u001b[49m)\n",
      "\u001b[1;31mTypeError\u001b[0m: can only concatenate str (not \"int\") to str"
     ]
    }
   ],
   "source": [
    "var1 = \"Hello World\"\n",
    "var2 = 4\n",
    "var3 = 36.5\n",
    "print(var1 + var2)"
   ]
  },
  {
   "cell_type": "code",
   "execution_count": 14,
   "id": "18b9f361",
   "metadata": {},
   "outputs": [
    {
     "name": "stdout",
     "output_type": "stream",
     "text": [
      "Hello World Harry\n"
     ]
    }
   ],
   "source": [
    "var1 = \"Hello World \"\n",
    "var2 = \"Harry\"\n",
    "var3 = 36.5\n",
    "print(var1 + var2) # Concatinate / When we add 2 types of strings"
   ]
  },
  {
   "cell_type": "code",
   "execution_count": 16,
   "id": "fd765554",
   "metadata": {},
   "outputs": [
    {
     "name": "stdout",
     "output_type": "stream",
     "text": [
      "100 20\n"
     ]
    }
   ],
   "source": [
    "var1 = \"100 \"\n",
    "var2 = \"20\"\n",
    "var3 = 36.5\n",
    "print(var1 + var2) # Concatinate / When we add 2 types of strings"
   ]
  },
  {
   "cell_type": "markdown",
   "id": "21cf60d6",
   "metadata": {},
   "source": [
    " # Type Casting"
   ]
  },
  {
   "cell_type": "code",
   "execution_count": null,
   "id": "3e639c55",
   "metadata": {},
   "outputs": [],
   "source": [
    "\"\"\"\n",
    "str()\n",
    "int()\n",
    "float()\n",
    "\n",
    "\"\"\"\"\n",
    "\n",
    "in order to change string to integer we perform following task"
   ]
  },
  {
   "cell_type": "code",
   "execution_count": 17,
   "id": "46e152a3",
   "metadata": {},
   "outputs": [
    {
     "name": "stdout",
     "output_type": "stream",
     "text": [
      "120\n"
     ]
    }
   ],
   "source": [
    "var1 = \"100 \"\n",
    "var2 = \"20\"\n",
    "var3 = 36.5\n",
    "print(int(var1) + int(var2)) # change string values to integar"
   ]
  },
  {
   "cell_type": "markdown",
   "id": "11bbf388",
   "metadata": {},
   "source": [
    "### if we want to print any thing x 10 we perform following task"
   ]
  },
  {
   "cell_type": "code",
   "execution_count": 18,
   "id": "9ec0d11e",
   "metadata": {},
   "outputs": [
    {
     "name": "stdout",
     "output_type": "stream",
     "text": [
      "Hello WorldHello WorldHello WorldHello WorldHello WorldHello WorldHello WorldHello WorldHello WorldHello World\n"
     ]
    }
   ],
   "source": [
    "a = \"Hello World\"\n",
    "print(10 * a)"
   ]
  },
  {
   "cell_type": "code",
   "execution_count": 27,
   "id": "29552a5c",
   "metadata": {},
   "outputs": [
    {
     "name": "stdout",
     "output_type": "stream",
     "text": [
      "Hello World\n",
      "Hello World\n",
      "Hello World\n",
      "Hello World\n",
      "Hello World\n",
      "Hello World\n",
      "Hello World\n",
      "Hello World\n",
      "Hello World\n",
      "Hello World\n",
      "\n",
      "Bye Bye World\n",
      "Bye Bye World\n",
      "Bye Bye World\n",
      "Bye Bye World\n",
      "Bye Bye World\n",
      "Bye Bye World\n",
      "Bye Bye World\n",
      "Bye Bye World\n",
      "Bye Bye World\n",
      "Bye Bye World\n",
      "\n"
     ]
    },
    {
     "data": {
      "text/plain": [
       "(None, None)"
      ]
     },
     "execution_count": 27,
     "metadata": {},
     "output_type": "execute_result"
    }
   ],
   "source": [
    "a = \"Hello World\"\n",
    "print(10 * \"Hello World\\n\"), print(10 * \"Bye Bye World\\n\")"
   ]
  },
  {
   "cell_type": "code",
   "execution_count": 28,
   "id": "bc3d33d2",
   "metadata": {},
   "outputs": [
    {
     "name": "stdout",
     "output_type": "stream",
     "text": [
      "1020\n"
     ]
    }
   ],
   "source": [
    "var1 = \"100 \"\n",
    "var2 = \"20\"\n",
    "var3 = 36.5\n",
    "print(10 * int(var1) + int(var2)) # we perform this action to replicate answer = 10 times but result is some thing else due to int value."
   ]
  },
  {
   "cell_type": "markdown",
   "id": "0229df21",
   "metadata": {},
   "source": [
    "### We need to convert int to str in order to replicate answer = 10 times "
   ]
  },
  {
   "cell_type": "code",
   "execution_count": 2,
   "id": "7f42e0dc",
   "metadata": {},
   "outputs": [
    {
     "name": "stdout",
     "output_type": "stream",
     "text": [
      "120120120120120120120120120120\n"
     ]
    }
   ],
   "source": [
    "var1 = \"100 \"\n",
    "var2 = \"20\"\n",
    "var3 = 36.5\n",
    "print(10 * str(int(var1) + int(var2)))"
   ]
  },
  {
   "cell_type": "markdown",
   "id": "35d86ea4",
   "metadata": {},
   "source": [
    "### User input"
   ]
  },
  {
   "cell_type": "code",
   "execution_count": 33,
   "id": "253b3ac7",
   "metadata": {},
   "outputs": [
    {
     "name": "stdout",
     "output_type": "stream",
     "text": [
      "Enter your Num\n",
      "77\n",
      "Please Enter your num 77\n"
     ]
    }
   ],
   "source": [
    "print(\"Enter your Num\")\n",
    "input_name = input()\n",
    "print(\"Please Enter your num\", input_name)"
   ]
  },
  {
   "cell_type": "code",
   "execution_count": 36,
   "id": "0f7a0b1a",
   "metadata": {},
   "outputs": [
    {
     "name": "stdout",
     "output_type": "stream",
     "text": [
      "Enter your Num\n",
      "77\n",
      "Please Enter your num 77777777777777777777\n"
     ]
    }
   ],
   "source": [
    "print(\"Enter your Num\")\n",
    "input_name = input()\n",
    "print(\"Please Enter your num\", input_name*10) # string x 10 - return value string x 10 "
   ]
  },
  {
   "cell_type": "code",
   "execution_count": 39,
   "id": "82511cda",
   "metadata": {},
   "outputs": [
    {
     "name": "stdout",
     "output_type": "stream",
     "text": [
      "Enter your Num\n",
      "77\n",
      "Please Enter your num 770\n"
     ]
    }
   ],
   "source": [
    "print(\"Enter your Num\")\n",
    "input_name = (input())\n",
    "print(\"Please Enter your num\", int(input_name)*10) # Convert string to integer and return value is multiply"
   ]
  },
  {
   "cell_type": "code",
   "execution_count": 46,
   "id": "4bb6dd34",
   "metadata": {},
   "outputs": [
    {
     "name": "stdout",
     "output_type": "stream",
     "text": [
      "Calculator\n",
      "77\n",
      "88\n",
      "Enter First Number:  77\n",
      "Enter Second Number:  88\n",
      "Sum of Input Numbers:  165\n"
     ]
    }
   ],
   "source": [
    "print(\"Calculator\")\n",
    "a = int(input())\n",
    "b = int(input())\n",
    "print(\"Enter First Number: \", a)\n",
    "print(\"Enter Second Number: \", b)\n",
    "print(\"Sum of Input Numbers: \", a+b)"
   ]
  },
  {
   "cell_type": "code",
   "execution_count": 50,
   "id": "8607df3a",
   "metadata": {},
   "outputs": [
    {
     "name": "stdout",
     "output_type": "stream",
     "text": [
      "Calculator\n",
      "Enter First Number: \n",
      "77\n",
      "Enter Second Number: \n",
      "88\n",
      "Sum of Input Numbers:  165\n"
     ]
    }
   ],
   "source": [
    "print(\"Calculator\")\n",
    "print(\"Enter First Number: \")\n",
    "a = input()\n",
    "print(\"Enter Second Number: \")\n",
    "b = input()\n",
    "print(\"Sum of Input Numbers: \", int(a) + int(b))"
   ]
  },
  {
   "cell_type": "code",
   "execution_count": null,
   "id": "ea9a1d69",
   "metadata": {},
   "outputs": [],
   "source": []
  }
 ],
 "metadata": {
  "kernelspec": {
   "display_name": "Python 3 (ipykernel)",
   "language": "python",
   "name": "python3"
  },
  "language_info": {
   "codemirror_mode": {
    "name": "ipython",
    "version": 3
   },
   "file_extension": ".py",
   "mimetype": "text/x-python",
   "name": "python",
   "nbconvert_exporter": "python",
   "pygments_lexer": "ipython3",
   "version": "3.9.12"
  }
 },
 "nbformat": 4,
 "nbformat_minor": 5
}
