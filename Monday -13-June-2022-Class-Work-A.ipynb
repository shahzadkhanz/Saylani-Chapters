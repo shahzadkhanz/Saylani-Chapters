{
 "cells": [
  {
   "cell_type": "markdown",
   "id": "953fa290",
   "metadata": {},
   "source": [
    "# Complete Remaining Method"
   ]
  },
  {
   "cell_type": "code",
   "execution_count": null,
   "id": "b9250fac",
   "metadata": {},
   "outputs": [],
   "source": [
    "# list data type  = Multiple values in same variable\n",
    "# index    = left to right = 0 to onwards / Right to left = -1 on backward\n",
    "# slicing  = Put Start and End Value / All data recover between start and end excluding end value.\n",
    "# methods  =  \n",
    "# attributes"
   ]
  },
  {
   "cell_type": "code",
   "execution_count": 4,
   "id": "0965198a",
   "metadata": {},
   "outputs": [
    {
     "name": "stdout",
     "output_type": "stream",
     "text": [
      "<class 'list'>\n"
     ]
    },
    {
     "data": {
      "text/plain": [
       "['Qasim', 'Asif', 'Noman', 'Kamran']"
      ]
     },
     "execution_count": 4,
     "metadata": {},
     "output_type": "execute_result"
    }
   ],
   "source": [
    "  #         0        1      2         3\n",
    "names = ['Qasim', 'Asif','Noman', 'Kamran']\n",
    "  #        -4       -3     -2        -1\n",
    "print(type(names))\n",
    "names"
   ]
  },
  {
   "cell_type": "code",
   "execution_count": 3,
   "id": "5fbe0121",
   "metadata": {},
   "outputs": [
    {
     "data": {
      "text/plain": [
       "'Kamran'"
      ]
     },
     "execution_count": 3,
     "metadata": {},
     "output_type": "execute_result"
    }
   ],
   "source": [
    "names[3]"
   ]
  },
  {
   "cell_type": "code",
   "execution_count": 5,
   "id": "5d4b7aa3",
   "metadata": {},
   "outputs": [
    {
     "name": "stdout",
     "output_type": "stream",
     "text": [
      "<class 'list'>\n"
     ]
    }
   ],
   "source": [
    "  #         0        1      2         3     4   5   6   7\n",
    "names = ['Qasim', 'Asif','Noman', 'Kamran',200,300,400,500]\n",
    "  #        -8         -7        -6          -5     -4  -3  -2  -1\n",
    "print(type(names))\n"
   ]
  },
  {
   "cell_type": "code",
   "execution_count": 8,
   "id": "5c7f258c",
   "metadata": {},
   "outputs": [
    {
     "name": "stdout",
     "output_type": "stream",
     "text": [
      "['Qasim', 'Asif', 'Akram', 'Kamran', 200, 300, 400, 500]\n"
     ]
    }
   ],
   "source": [
    "  #         0        1      2         3     4   5   6   7\n",
    "names = ['Qasim', 'Asif','Noman', 'Kamran',200,300,400,500]\n",
    "  #        -8       -7     -6       -5     -4  -3  -2  -1\n",
    "names[2] = \"Akram\"\n",
    "print(names)"
   ]
  },
  {
   "cell_type": "markdown",
   "id": "ed9c9792",
   "metadata": {},
   "source": [
    "# Slicing"
   ]
  },
  {
   "cell_type": "code",
   "execution_count": null,
   "id": "d9915d2a",
   "metadata": {},
   "outputs": [],
   "source": [
    "list[start:end:step]\n",
    "Default left to right (left to right step=1) (right to left step=-1)\n",
    "#start: include\n",
    "#end: exclude\n",
    "#step:"
   ]
  },
  {
   "cell_type": "code",
   "execution_count": 17,
   "id": "5c8b69ac",
   "metadata": {},
   "outputs": [
    {
     "data": {
      "text/plain": [
       "['Qasim', 'Asif', 'Noman']"
      ]
     },
     "execution_count": 17,
     "metadata": {},
     "output_type": "execute_result"
    }
   ],
   "source": [
    "names = ['Qasim', 'Asif','Noman', 'Kamran',200,300,400,500]\n",
    "names[1]\n",
    "names[0:3]\n",
    "names[0:5:1]\n",
    "names[0:5:2]\n",
    "names[-9:-6]\n",
    "names[-9:3:1]"
   ]
  },
  {
   "cell_type": "code",
   "execution_count": 19,
   "id": "8dbc1cbc",
   "metadata": {},
   "outputs": [
    {
     "data": {
      "text/plain": [
       "['Qasim', 'Asif', 'Noman', 'Kamran', 200, 300, 400, 500]"
      ]
     },
     "execution_count": 19,
     "metadata": {},
     "output_type": "execute_result"
    }
   ],
   "source": [
    "names = ['Qasim', 'Asif','Noman', 'Kamran',200,300,400,500]\n",
    "names[::]"
   ]
  },
  {
   "cell_type": "code",
   "execution_count": 20,
   "id": "742b1207",
   "metadata": {},
   "outputs": [
    {
     "name": "stdout",
     "output_type": "stream",
     "text": [
      "['Qasim', 'Asif', 'Noman', 'Kamran', 200, 300, 400, 500]\n"
     ]
    },
    {
     "data": {
      "text/plain": [
       "['Noman', 'Kamran', 200, 300, 400, 500]"
      ]
     },
     "execution_count": 20,
     "metadata": {},
     "output_type": "execute_result"
    }
   ],
   "source": [
    "names = ['Qasim', 'Asif','Noman', 'Kamran',200,300,400,500]\n",
    "print(names)\n",
    "names[::]\n",
    "names[2:]"
   ]
  },
  {
   "cell_type": "code",
   "execution_count": 21,
   "id": "a60fded8",
   "metadata": {},
   "outputs": [
    {
     "name": "stdout",
     "output_type": "stream",
     "text": [
      "['Qasim', 'Asif', 'Noman', 'Kamran', 200, 300, 400, 500]\n"
     ]
    },
    {
     "data": {
      "text/plain": [
       "['Noman', 'Kamran', 200, 300, 400, 500]"
      ]
     },
     "execution_count": 21,
     "metadata": {},
     "output_type": "execute_result"
    }
   ],
   "source": [
    "names = ['Qasim', 'Asif','Noman', 'Kamran',200,300,400,500]\n",
    "print(names)\n",
    "names[::]\n",
    "names[2::]"
   ]
  },
  {
   "cell_type": "code",
   "execution_count": 22,
   "id": "cd695fca",
   "metadata": {},
   "outputs": [
    {
     "name": "stdout",
     "output_type": "stream",
     "text": [
      "['Qasim', 'Asif', 'Noman', 'Kamran', 200, 300, 400, 500]\n"
     ]
    },
    {
     "data": {
      "text/plain": [
       "[500, 400, 300, 200, 'Kamran', 'Noman', 'Asif', 'Qasim']"
      ]
     },
     "execution_count": 22,
     "metadata": {},
     "output_type": "execute_result"
    }
   ],
   "source": [
    "names = ['Qasim', 'Asif','Noman', 'Kamran',200,300,400,500]\n",
    "print(names)\n",
    "names[::-1]\n"
   ]
  },
  {
   "cell_type": "code",
   "execution_count": null,
   "id": "038a2330",
   "metadata": {},
   "outputs": [],
   "source": []
  }
 ],
 "metadata": {
  "kernelspec": {
   "display_name": "Python 3 (ipykernel)",
   "language": "python",
   "name": "python3"
  },
  "language_info": {
   "codemirror_mode": {
    "name": "ipython",
    "version": 3
   },
   "file_extension": ".py",
   "mimetype": "text/x-python",
   "name": "python",
   "nbconvert_exporter": "python",
   "pygments_lexer": "ipython3",
   "version": "3.9.12"
  }
 },
 "nbformat": 4,
 "nbformat_minor": 5
}
