{
 "cells": [
  {
   "cell_type": "code",
   "execution_count": null,
   "id": "6bf7a487",
   "metadata": {},
   "outputs": [],
   "source": [
    "1 - Zero Division Error (Occurs When you divide a value by 0)\n",
    "2 - Name Error\n",
    "3 - Index Error\n",
    "4 - Key Error\n",
    "5 - File not found error\n",
    "6 - Value Error\n",
    "7 - Type Error"
   ]
  }
 ],
 "metadata": {
  "kernelspec": {
   "display_name": "Python 3 (ipykernel)",
   "language": "python",
   "name": "python3"
  },
  "language_info": {
   "codemirror_mode": {
    "name": "ipython",
    "version": 3
   },
   "file_extension": ".py",
   "mimetype": "text/x-python",
   "name": "python",
   "nbconvert_exporter": "python",
   "pygments_lexer": "ipython3",
   "version": "3.9.12"
  }
 },
 "nbformat": 4,
 "nbformat_minor": 5
}
