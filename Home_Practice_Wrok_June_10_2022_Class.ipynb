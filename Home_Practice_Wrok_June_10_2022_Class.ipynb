{
 "cells": [
  {
   "cell_type": "code",
   "execution_count": 6,
   "id": "cbec3133",
   "metadata": {},
   "outputs": [
    {
     "name": "stdout",
     "output_type": "stream",
     "text": [
      "\n",
      "---------------------- HUMDARD UNIVERSITY ---------------------\n",
      "\n",
      "Name = S Khan                            Father's Name = S M Khan\n",
      "University = Humdard University          Department    = Management Sciences \n",
      "Registration No.= 2200180025             Subject       = MBA Finance\n"
     ]
    }
   ],
   "source": [
    "name = \"S Khan\"\n",
    "f_name = \"S M Khan\"\n",
    "uni = \"Humdard University\"\n",
    "dep = \"Management Sciences\"\n",
    "reg_no = 2200180025\n",
    "sub = \"MBA Finance\"\n",
    "\n",
    "mark_sheet = f\"\"\"\n",
    "---------------------- HUMDARD UNIVERSITY ---------------------\n",
    "\n",
    "Name = {name}                            Father's Name = {f_name}\n",
    "University = {uni}          Department    = {dep} \n",
    "Registration No.= {reg_no}             Subject       = {sub}\"\"\"\"\"\n",
    "\n",
    "print(mark_sheet)"
   ]
  },
  {
   "cell_type": "code",
   "execution_count": 20,
   "id": "3e34ef42",
   "metadata": {},
   "outputs": [
    {
     "name": "stdout",
     "output_type": "stream",
     "text": [
      "\n",
      "\n",
      "--------------------------------- HUMDARD UNIVERSITY -------------------------------\n",
      "\n",
      "Name = S Khan                            Father's Name = S M Khan\n",
      "University = Humdard University          Department    = Management Sciences \n",
      "Registration No.= 2200180025             Subject       = MBA Finance\n",
      "\n",
      "------------------------------------------------------------------------------------\n",
      "\n",
      "Maths                            88\n",
      "Accounting                       95\n",
      "Social Studies                   82\n",
      "Business English                 84\n",
      "Micro Economics                  80\n",
      "Total Marks:                    429\n",
      "Percentage:                    85.8\n"
     ]
    }
   ],
   "source": [
    "name = \"S Khan\"\n",
    "f_name = \"S M Khan\"\n",
    "uni = \"Humdard University\"\n",
    "dep = \"Management Sciences\"\n",
    "reg_no = 2200180025\n",
    "sub = \"MBA Finance\"\n",
    "\n",
    "mark_sheet = f\"\"\"\n",
    "\n",
    "--------------------------------- HUMDARD UNIVERSITY -------------------------------\n",
    "\n",
    "Name = {name}                            Father's Name = {f_name}\n",
    "University = {uni}          Department    = {dep} \n",
    "Registration No.= {reg_no}             Subject       = {sub}\n",
    "\n",
    "------------------------------------------------------------------------------------\n",
    "\"\"\"\"\"\n",
    "print(mark_sheet)\n",
    "\n",
    "math = int(input(\"Maths                            \"))\n",
    "account = int(input(\"Accounting                       \"))\n",
    "social_studies = int(input(\"Social Studies                   \"))\n",
    "business_english = int(input(\"Business English                 \"))\n",
    "micro_economics = int(input(\"Micro Economics                  \"))\n",
    "res = (math + account + social_studies + business_english + micro_economics)\n",
    "print(\"Total Marks:                   \", res)\n",
    "per = (res/500*100)\n",
    "print(\"Percentage:                   \",per)"
   ]
  },
  {
   "cell_type": "code",
   "execution_count": null,
   "id": "77f958af",
   "metadata": {},
   "outputs": [],
   "source": []
  }
 ],
 "metadata": {
  "kernelspec": {
   "display_name": "Python 3 (ipykernel)",
   "language": "python",
   "name": "python3"
  },
  "language_info": {
   "codemirror_mode": {
    "name": "ipython",
    "version": 3
   },
   "file_extension": ".py",
   "mimetype": "text/x-python",
   "name": "python",
   "nbconvert_exporter": "python",
   "pygments_lexer": "ipython3",
   "version": "3.9.12"
  }
 },
 "nbformat": 4,
 "nbformat_minor": 5
}
