{
 "cells": [
  {
   "cell_type": "code",
   "execution_count": 6,
   "id": "71ef019b",
   "metadata": {},
   "outputs": [
    {
     "name": "stdout",
     "output_type": "stream",
     "text": [
      "\n",
      "\n",
      "---------------------- Humdard University --------------------------------\n",
      "\n",
      "Name: Shahzad Khan      Father's Name: Shabbir Khan\n",
      "Subject: Finance        Department: Management Sciences\n",
      "Roll No.: 2200181\n",
      "\n",
      "Maths: 80\n",
      "Accounts: 90\n",
      "English: 88\n",
      "Economics: 90\n",
      "Total Marks: 348\n"
     ]
    }
   ],
   "source": [
    "name = \"Shahzad Khan\"\n",
    "f_name = \"Shabbir Khan\"\n",
    "sub = \"Finance\"\n",
    "dep = \"Management Sciences\"\n",
    "roll_no = 2200181\n",
    "mat = \"80\"\n",
    "acct = \"90\"\n",
    "eng = \"88\"\n",
    "eco = \"90\"\n",
    "tot = \"348\"\n",
    "\n",
    "\n",
    "mark_sheet = f\"\"\"\n",
    "\n",
    "---------------------- Humdard University --------------------------------\n",
    "\n",
    "Name: {name}      Father's Name: {f_name}\n",
    "Subject: {sub}        Department: {dep}\n",
    "Roll No.: {roll_no}\n",
    "\n",
    "Maths: {mat}\n",
    "Accounts: {acct}\n",
    "English: {eng}\n",
    "Economics: {eco}\n",
    "Total Marks: {tot}\"\"\"\n",
    "\n",
    "print(mark_sheet)\n",
    "\n"
   ]
  },
  {
   "cell_type": "code",
   "execution_count": 2,
   "id": "f95c82a5",
   "metadata": {},
   "outputs": [
    {
     "name": "stdout",
     "output_type": "stream",
     "text": [
      "Roll No:\t2000808\n",
      "Maths:\t88\n",
      "Accounts:\t90\n",
      "English\t75\n",
      "Economics:\t78\n",
      "\n",
      "\n",
      "---------------------- Humdard University --------------------------------\n",
      "\n",
      "Name: Shahzad Khan      Father's Name: Shabbir Khan\n",
      "Subject: Finance        Department: Management Sciences\n",
      "Roll No.: 2000808\n",
      "\n",
      "Maths: 88\n",
      "Accounts: 90\n",
      "English: 75\n",
      "Economics: 78\n",
      "Total Marks: 331\n"
     ]
    }
   ],
   "source": [
    "name = \"Shahzad Khan\"\n",
    "f_name = \"Shabbir Khan\"\n",
    "sub = \"Finance\"\n",
    "dep = \"Management Sciences\"\n",
    "\n",
    "roll_no = input(\"Roll No:\\t\")\n",
    "mat = int(input(\"Maths:\\t\"))\n",
    "acct = int(input(\"Accounts:\\t\"))\n",
    "eng = int(input(\"English\\t\"))\n",
    "eco = int(input(\"Economics:\\t\"))\n",
    "tot = (mat+acct+eng+eco)\n",
    "\n",
    "\n",
    "mark_sheet = f\"\"\"\n",
    "\n",
    "---------------------- Humdard University --------------------------------\n",
    "\n",
    "Name: {name}      Father's Name: {f_name}\n",
    "Subject: {sub}        Department: {dep}\n",
    "Roll No.: {roll_no}\n",
    "\n",
    "Maths: {mat}\n",
    "Accounts: {acct}\n",
    "English: {eng}\n",
    "Economics: {eco}\n",
    "Total Marks: {tot}\"\"\"\n",
    "\n",
    "print(mark_sheet)\n"
   ]
  },
  {
   "cell_type": "code",
   "execution_count": null,
   "id": "f02f5f8d",
   "metadata": {},
   "outputs": [],
   "source": []
  }
 ],
 "metadata": {
  "kernelspec": {
   "display_name": "Python 3 (ipykernel)",
   "language": "python",
   "name": "python3"
  },
  "language_info": {
   "codemirror_mode": {
    "name": "ipython",
    "version": 3
   },
   "file_extension": ".py",
   "mimetype": "text/x-python",
   "name": "python",
   "nbconvert_exporter": "python",
   "pygments_lexer": "ipython3",
   "version": "3.9.12"
  }
 },
 "nbformat": 4,
 "nbformat_minor": 5
}
