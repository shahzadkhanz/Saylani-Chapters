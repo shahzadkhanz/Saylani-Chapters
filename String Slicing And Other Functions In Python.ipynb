{
 "cells": [
  {
   "cell_type": "code",
   "execution_count": 6,
   "id": "f057cdb4",
   "metadata": {},
   "outputs": [
    {
     "name": "stdout",
     "output_type": "stream",
     "text": [
      "19\n",
      "Shahzad is good boy\n",
      "Shahzad is good\n",
      "Shahzad is good boy\n"
     ]
    },
    {
     "ename": "IndexError",
     "evalue": "string index out of range",
     "output_type": "error",
     "traceback": [
      "\u001b[1;31m---------------------------------------------------------------------------\u001b[0m",
      "\u001b[1;31mIndexError\u001b[0m                                Traceback (most recent call last)",
      "Input \u001b[1;32mIn [6]\u001b[0m, in \u001b[0;36m<cell line: 6>\u001b[1;34m()\u001b[0m\n\u001b[0;32m      4\u001b[0m \u001b[38;5;28mprint\u001b[39m(mystr[\u001b[38;5;241m0\u001b[39m:\u001b[38;5;241m15\u001b[39m])\n\u001b[0;32m      5\u001b[0m \u001b[38;5;28mprint\u001b[39m(mystr[\u001b[38;5;241m0\u001b[39m:\u001b[38;5;241m78\u001b[39m])\n\u001b[1;32m----> 6\u001b[0m \u001b[38;5;28mprint\u001b[39m(\u001b[43mmystr\u001b[49m\u001b[43m[\u001b[49m\u001b[38;5;241;43m78\u001b[39;49m\u001b[43m]\u001b[49m)\n",
      "\u001b[1;31mIndexError\u001b[0m: string index out of range"
     ]
    }
   ],
   "source": [
    "mystr = \"Shahzad is good boy\"\n",
    "print(len(mystr)) # Checked length of string\n",
    "print(mystr)\n",
    "print(mystr[0:15])\n",
    "print(mystr[0:78]) # No error as we mention starting point\n",
    "print(mystr[78])  # error due to wrong string indexing"
   ]
  },
  {
   "cell_type": "code",
   "execution_count": 15,
   "id": "1dc044df",
   "metadata": {},
   "outputs": [
    {
     "name": "stdout",
     "output_type": "stream",
     "text": [
      "Sazdi odby\n",
      "Shdso y\n",
      "Shahzad is good bo\n"
     ]
    }
   ],
   "source": [
    "mystr = \"Shahzad is good boy\"\n",
    "print(mystr[0:19:2]) # print every 2nd string starting from 0\n",
    "print(mystr[0:19:3]) # print every 3rd string starting from 0\n",
    "print(mystr[-21:-1])\n"
   ]
  },
  {
   "cell_type": "code",
   "execution_count": 22,
   "id": "23fb9902",
   "metadata": {},
   "outputs": [
    {
     "name": "stdout",
     "output_type": "stream",
     "text": [
      "True\n",
      "False\n",
      "False\n",
      "1\n"
     ]
    }
   ],
   "source": [
    "mystr = \"Shahzad is good boy\"\n",
    "print(mystr.endswith('boy'))\n",
    "print(mystr.isalnum())\n",
    "print(mystr.isalpha())\n",
    "print(mystr.count('Shahzad'))"
   ]
  },
  {
   "cell_type": "code",
   "execution_count": 31,
   "id": "88210218",
   "metadata": {},
   "outputs": [
    {
     "name": "stdout",
     "output_type": "stream",
     "text": [
      "2\n",
      "Shahzad is good boy & shahzad is working hard\n",
      "shahzad is good boy & shahzad is working hard\n",
      "SHAHZAD IS GOOD BOY & SHAHZAD IS WORKING HARD\n",
      "Khan is good boy & Khan is working hard\n"
     ]
    }
   ],
   "source": [
    "mystr = \"Shahzad is good boy & Shahzad is working hard\"\n",
    "print(mystr.count('Shahzad'))\n",
    "print(mystr.capitalize())\n",
    "print(mystr.lower())\n",
    "print(mystr.upper())\n",
    "print(mystr.replace('Shahzad','Khan'))\n"
   ]
  },
  {
   "cell_type": "code",
   "execution_count": null,
   "id": "24835c09",
   "metadata": {},
   "outputs": [],
   "source": []
  }
 ],
 "metadata": {
  "kernelspec": {
   "display_name": "Python 3 (ipykernel)",
   "language": "python",
   "name": "python3"
  },
  "language_info": {
   "codemirror_mode": {
    "name": "ipython",
    "version": 3
   },
   "file_extension": ".py",
   "mimetype": "text/x-python",
   "name": "python",
   "nbconvert_exporter": "python",
   "pygments_lexer": "ipython3",
   "version": "3.9.12"
  }
 },
 "nbformat": 4,
 "nbformat_minor": 5
}
