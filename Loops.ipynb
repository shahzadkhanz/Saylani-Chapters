{
 "cells": [
  {
   "cell_type": "markdown",
   "id": "ad353f19",
   "metadata": {},
   "source": [
    "# Loops\n",
    "\n",
    "### for loops"
   ]
  },
  {
   "cell_type": "code",
   "execution_count": 7,
   "id": "3f82649f",
   "metadata": {},
   "outputs": [
    {
     "name": "stdout",
     "output_type": "stream",
     "text": [
      "Harry\n",
      "Larry\n",
      "Carry\n",
      "Tarry\n"
     ]
    }
   ],
   "source": [
    "list1 = [\"Harry\",\"Larry\",\"Carry\",\"Tarry\"]\n",
    "# print(list1[0], list1[1])\n",
    "for item in list1:\n",
    "    print(item)"
   ]
  },
  {
   "cell_type": "code",
   "execution_count": 8,
   "id": "c5d8bec7",
   "metadata": {},
   "outputs": [
    {
     "name": "stdout",
     "output_type": "stream",
     "text": [
      "['Harry', 2]\n",
      "['Larry', 1]\n",
      "['Carry', 5]\n",
      "['Tarry', 3]\n"
     ]
    }
   ],
   "source": [
    "list1 = [[\"Harry\", 2], [\"Larry\", 1], [\"Carry\", 5], [\"Tarry\", 3]]\n",
    "for item in list1:\n",
    "    print(item)"
   ]
  },
  {
   "cell_type": "code",
   "execution_count": 9,
   "id": "448ddd78",
   "metadata": {},
   "outputs": [
    {
     "name": "stdout",
     "output_type": "stream",
     "text": [
      "Harry 2\n",
      "Larry 1\n",
      "Carry 5\n",
      "Tarry 3\n"
     ]
    }
   ],
   "source": [
    "list1 = [[\"Harry\", 2], [\"Larry\", 1], [\"Carry\", 5], [\"Tarry\", 3]]\n",
    "for item, lollypop in list1:\n",
    "    print(item, lollypop)"
   ]
  },
  {
   "cell_type": "code",
   "execution_count": 11,
   "id": "5993c98c",
   "metadata": {},
   "outputs": [
    {
     "name": "stdout",
     "output_type": "stream",
     "text": [
      "Harry eats 2 Lollypop\n",
      "Larry eats 1 Lollypop\n",
      "Carry eats 5 Lollypop\n",
      "Tarry eats 3 Lollypop\n"
     ]
    }
   ],
   "source": [
    "list1 = [[\"Harry\", 2], [\"Larry\", 1], [\"Carry\", 5], [\"Tarry\", 3]]\n",
    "for item, lollypop in list1:\n",
    "    print(item, \"eats\", lollypop, \"Lollypop\")"
   ]
  },
  {
   "cell_type": "code",
   "execution_count": 14,
   "id": "ea294336",
   "metadata": {},
   "outputs": [
    {
     "name": "stdout",
     "output_type": "stream",
     "text": [
      "{'Harry': 2, 'Larry': 1, 'Carry': 5, 'Tarry': 3}\n"
     ]
    }
   ],
   "source": [
    "list1 = [[\"Harry\", 2], [\"Larry\", 1], [\"Carry\", 5], [\"Tarry\", 3]]\n",
    "dict1 = dict(list1) # converting list in to dictionary through using type cast function dict()\n",
    "print(dict1)"
   ]
  },
  {
   "cell_type": "code",
   "execution_count": 22,
   "id": "6ba08ed6",
   "metadata": {},
   "outputs": [
    {
     "name": "stdout",
     "output_type": "stream",
     "text": [
      "Harry eat 2 Lollypops\n",
      "Larry eat 1 Lollypops\n",
      "Carry eat 5 Lollypops\n",
      "Tarry eat 3 Lollypops\n"
     ]
    }
   ],
   "source": [
    "list1 = [[\"Harry\", 2], [\"Larry\", 1], [\"Carry\", 5], [\"Tarry\", 3]]\n",
    "dict1 = dict(list1) # converting list in to dictionary through using type cast function dict()\n",
    "\n",
    "for item, lollypop in dict1.items():\n",
    "        print(item, \"eat\", lollypop, \"Lollypops\")"
   ]
  },
  {
   "cell_type": "code",
   "execution_count": 33,
   "id": "ef4f2e9c",
   "metadata": {},
   "outputs": [
    {
     "name": "stdout",
     "output_type": "stream",
     "text": [
      "Harry\n",
      "Larry\n",
      "Carry\n",
      "Tarry\n"
     ]
    }
   ],
   "source": [
    "list1 = [[\"Harry\", 2], [\"Larry\", 1], [\"Carry\", 5], [\"Tarry\", 3]]\n",
    "dict1 = dict(list1)\n",
    "\n",
    "for item in dict1:\n",
    "    print(item)"
   ]
  },
  {
   "cell_type": "code",
   "execution_count": 1,
   "id": "cdbdef0f",
   "metadata": {},
   "outputs": [
    {
     "name": "stdout",
     "output_type": "stream",
     "text": [
      "Tarry\n",
      "List_1 ['Harry', 'Larry', 'Carry']\n",
      "List_2 ['Tarry']\n"
     ]
    }
   ],
   "source": [
    "list1 = [\"Harry\",\"Larry\",\"Carry\",\"Tarry\"]\n",
    "list2 = []\n",
    "a=input()\n",
    "\n",
    "if a == list1[0]:\n",
    "    list1.remove(a)\n",
    "    list2.append(a)\n",
    "    print(\"List_1\", list1), print(\"List_2\", list2)\n",
    "\n",
    "elif a == list1[1]:\n",
    "    list1.remove(a)\n",
    "    list2.append(a)\n",
    "    print(\"List_1\", list1), print(\"List_2\", list2)\n",
    "\n",
    "elif a == list1[2]:\n",
    "    list1.remove(a)\n",
    "    list2.append(a)\n",
    "    print(\"List_1\", list1), print(\"List_2\", list2)\n",
    "\n",
    "elif a == list1[3]:\n",
    "    list1.remove(a)\n",
    "    list2.append(a)\n",
    "    print(\"List_1\", list1), print(\"List_2\", list2)\n",
    "\n",
    "    \n",
    "else:\n",
    "    print(\"Name is not the part of List 1\")"
   ]
  },
  {
   "cell_type": "markdown",
   "id": "84fbc08b",
   "metadata": {},
   "source": [
    "## QUIZ\n",
    "\n",
    "##### Make a list containing number and print only numbers which is > 6"
   ]
  },
  {
   "cell_type": "code",
   "execution_count": 14,
   "id": "01c2c333",
   "metadata": {},
   "outputs": [
    {
     "name": "stdout",
     "output_type": "stream",
     "text": [
      "['banana', 8, 'orange', 10, 'cherry', 6, 'mango', 5, 'water melon', 3, 10, 12, 15, 18]\n",
      "8\n",
      "10\n",
      "10\n",
      "12\n",
      "15\n",
      "18\n"
     ]
    }
   ],
   "source": [
    "fruits = [\"banana\", 8, \"orange\", 10, \"cherry\", 6, \"mango\", 5, \"water melon\", 3,10,12,15,18]\n",
    "\n",
    "for a in fruits:\n",
    "    if str(a).isnumeric() and a > 6:\n",
    "        print(a)"
   ]
  },
  {
   "cell_type": "markdown",
   "id": "78aec196",
   "metadata": {},
   "source": [
    "## while loop "
   ]
  },
  {
   "cell_type": "code",
   "execution_count": 1,
   "id": "94b93c87",
   "metadata": {},
   "outputs": [
    {
     "name": "stdout",
     "output_type": "stream",
     "text": [
      "0\n",
      "1\n",
      "2\n",
      "3\n",
      "4\n",
      "5\n",
      "6\n",
      "7\n",
      "8\n",
      "9\n"
     ]
    }
   ],
   "source": [
    "i = 0\n",
    "while (i<10):\n",
    "    print(i)  # if starting point required from 0\n",
    "    i = i + 1"
   ]
  },
  {
   "cell_type": "code",
   "execution_count": 2,
   "id": "f7559e81",
   "metadata": {},
   "outputs": [
    {
     "name": "stdout",
     "output_type": "stream",
     "text": [
      "1\n",
      "2\n",
      "3\n",
      "4\n",
      "5\n",
      "6\n",
      "7\n",
      "8\n",
      "9\n",
      "10\n"
     ]
    }
   ],
   "source": [
    "i = 0\n",
    "while (i<10):\n",
    "    print(i+1)  # if starting point required from 1\n",
    "    i = i + 1"
   ]
  },
  {
   "cell_type": "code",
   "execution_count": 5,
   "id": "3e8e2b92",
   "metadata": {},
   "outputs": [
    {
     "name": "stdout",
     "output_type": "stream",
     "text": [
      "0 1 2 3 4 5 6 7 8 9 "
     ]
    }
   ],
   "source": [
    "i = 0\n",
    "while (i<10):\n",
    "    print(i, end = \" \")  # value required in a row   \n",
    "    i = i + 1"
   ]
  },
  {
   "cell_type": "code",
   "execution_count": null,
   "id": "23287fa8",
   "metadata": {},
   "outputs": [],
   "source": []
  },
  {
   "cell_type": "code",
   "execution_count": 2,
   "id": "5eef3824",
   "metadata": {},
   "outputs": [
    {
     "ename": "SyntaxError",
     "evalue": "invalid syntax (1654725715.py, line 2)",
     "output_type": "error",
     "traceback": [
      "\u001b[1;36m  Input \u001b[1;32mIn [2]\u001b[1;36m\u001b[0m\n\u001b[1;33m    while (1)\u001b[0m\n\u001b[1;37m             ^\u001b[0m\n\u001b[1;31mSyntaxError\u001b[0m\u001b[1;31m:\u001b[0m invalid syntax\n"
     ]
    }
   ],
   "source": []
  },
  {
   "cell_type": "code",
   "execution_count": null,
   "id": "628cb7ae",
   "metadata": {},
   "outputs": [],
   "source": []
  }
 ],
 "metadata": {
  "kernelspec": {
   "display_name": "Python 3 (ipykernel)",
   "language": "python",
   "name": "python3"
  },
  "language_info": {
   "codemirror_mode": {
    "name": "ipython",
    "version": 3
   },
   "file_extension": ".py",
   "mimetype": "text/x-python",
   "name": "python",
   "nbconvert_exporter": "python",
   "pygments_lexer": "ipython3",
   "version": "3.9.12"
  }
 },
 "nbformat": 4,
 "nbformat_minor": 5
}
