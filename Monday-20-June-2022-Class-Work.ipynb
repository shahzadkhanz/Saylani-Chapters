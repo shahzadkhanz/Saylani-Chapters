{
 "cells": [
  {
   "cell_type": "markdown",
   "id": "61cfc3d5",
   "metadata": {},
   "source": [
    "# Controls (Reserved / Keyword)\n",
    " * If\n",
    "    * elif\n",
    "    * else\n",
    " * Loop = Repitition \n",
    "    * for\n",
    "    * while\n",
    "    * key_word\n",
    "       * pass\n",
    "       * continue\n",
    "       * break\n",
    " * try\n",
    "    * except\n",
    " \n",
    "* def (for creating your own function) "
   ]
  },
  {
   "cell_type": "markdown",
   "id": "b9c20511",
   "metadata": {},
   "source": [
    "# If\n",
    "   * elif\n",
    "   * else\n",
    "\n",
    " syntax\n",
    "    \n",
    "if logic:\n",
    "     true block\n",
    "else:\n",
    "     false block\n",
    "        \n",
    "note: logic return True / False  "
   ]
  },
  {
   "cell_type": "code",
   "execution_count": 4,
   "id": "810827f4",
   "metadata": {},
   "outputs": [
    {
     "name": "stdout",
     "output_type": "stream",
     "text": [
      "Pakistan\n"
     ]
    }
   ],
   "source": [
    "if True:\n",
    "    print('Pakistan')\n",
    "else:\n",
    "    print('USA')\n",
    "    print('India')\n",
    "    print('Japan')"
   ]
  },
  {
   "cell_type": "code",
   "execution_count": 5,
   "id": "17732229",
   "metadata": {},
   "outputs": [
    {
     "name": "stdout",
     "output_type": "stream",
     "text": [
      "USA\n",
      "India\n",
      "Japan\n"
     ]
    }
   ],
   "source": [
    "if False:\n",
    "    print('Pakistan')\n",
    "else:\n",
    "    print('USA')\n",
    "    print('India')\n",
    "    print('Japan')"
   ]
  },
  {
   "cell_type": "code",
   "execution_count": 8,
   "id": "e6ed6a64",
   "metadata": {},
   "outputs": [
    {
     "data": {
      "text/plain": [
       "True"
      ]
     },
     "execution_count": 8,
     "metadata": {},
     "output_type": "execute_result"
    }
   ],
   "source": [
    "num = 15\n",
    "num % 2 == 1"
   ]
  },
  {
   "cell_type": "code",
   "execution_count": 9,
   "id": "ec3f6972",
   "metadata": {},
   "outputs": [
    {
     "name": "stdout",
     "output_type": "stream",
     "text": [
      "Even\n"
     ]
    }
   ],
   "source": [
    "num = 15\n",
    "if num % 2 == 1:\n",
    "    print(\"Even\")\n",
    "else:\n",
    "    print('odd')"
   ]
  },
  {
   "cell_type": "code",
   "execution_count": 10,
   "id": "43774c5e",
   "metadata": {},
   "outputs": [
    {
     "name": "stdout",
     "output_type": "stream",
     "text": [
      "odd\n"
     ]
    }
   ],
   "source": [
    "num = 15\n",
    "if num % 2 == 0:\n",
    "    print(\"Even\")\n",
    "else:\n",
    "    print('odd')"
   ]
  },
  {
   "cell_type": "code",
   "execution_count": 15,
   "id": "22b6220b",
   "metadata": {},
   "outputs": [
    {
     "name": "stdout",
     "output_type": "stream",
     "text": [
      "Enter Any Number : 77\n",
      "this 77 is odd\n"
     ]
    }
   ],
   "source": [
    "num = int(input('Enter Any Number : '))\n",
    "if num % 2 == 0:\n",
    "    print(f\"this {num} is Even\")\n",
    "else:\n",
    "    print(f\"this {num} is odd\")"
   ]
  },
  {
   "cell_type": "markdown",
   "id": "8033ca9c",
   "metadata": {},
   "source": [
    "# and(Lazmi) or (Optional)"
   ]
  },
  {
   "cell_type": "code",
   "execution_count": 18,
   "id": "2c0382b7",
   "metadata": {},
   "outputs": [
    {
     "data": {
      "text/plain": [
       "True"
      ]
     },
     "execution_count": 18,
     "metadata": {},
     "output_type": "execute_result"
    }
   ],
   "source": [
    "a = 20\n",
    "b = 40\n",
    "c = 90\n",
    "\n",
    "(a % 2 == 0) and (b % 2 == 0) and (c % 2 == 0)"
   ]
  },
  {
   "cell_type": "code",
   "execution_count": null,
   "id": "0ebc1da9",
   "metadata": {},
   "outputs": [],
   "source": [
    "### Dry Run\n",
    "\n",
    "a = 21\n",
    "b = 40\n",
    "c = 90\n",
    "\n",
    "(21 % 2 == 0) and (40 % 2 == 0) and (90 % 2 == 0)\n",
    "(1 == 0) and (0 == 0) and (0 == 0)\n",
    "(False) and (True) and (True)"
   ]
  },
  {
   "cell_type": "code",
   "execution_count": 24,
   "id": "c4f737ed",
   "metadata": {},
   "outputs": [
    {
     "ename": "SyntaxError",
     "evalue": "invalid syntax (834357626.py, line 4)",
     "output_type": "error",
     "traceback": [
      "\u001b[1;36m  Input \u001b[1;32mIn [24]\u001b[1;36m\u001b[0m\n\u001b[1;33m    if(user == \"Saylani\") and (password == \"Saylani123\")\u001b[0m\n\u001b[1;37m                                                        ^\u001b[0m\n\u001b[1;31mSyntaxError\u001b[0m\u001b[1;31m:\u001b[0m invalid syntax\n"
     ]
    }
   ],
   "source": [
    "user = input(\"User Name: \")\n",
    "password = input(\"Password\")\n",
    "\n",
    "if(user == \"Saylani\") and (password == \"Saylani123\")"
   ]
  },
  {
   "cell_type": "code",
   "execution_count": 23,
   "id": "dde3f4d3",
   "metadata": {},
   "outputs": [
    {
     "name": "stdout",
     "output_type": "stream",
     "text": [
      "User Name: Saylani\n",
      "PasswordSaylani123\n",
      "Valid User\n"
     ]
    }
   ],
   "source": [
    "user = input(\"User Name: \")\n",
    "password = input(\"Password\")\n",
    "\n",
    "if (user == \"Saylani\") and (password == \"Saylani123\"):\n",
    "    print(\"Valid User\")\n",
    "else:\n",
    "    print(\"Invalid Information Please Try Again\")"
   ]
  },
  {
   "cell_type": "code",
   "execution_count": 59,
   "id": "5f87e308",
   "metadata": {},
   "outputs": [
    {
     "name": "stdout",
     "output_type": "stream",
     "text": [
      "Fail\n"
     ]
    }
   ],
   "source": [
    "grade = 88\n",
    "if grade >=33 :\n",
    "    print(\"E\")\n",
    "elif grade <= 40 :\n",
    "        print(\"D\")\n",
    "elif grade <= 50 :\n",
    "        print(\"C\")\n",
    "elif grade <= 60 :\n",
    "        print(\"B\")\n",
    "elif grade <= 70 :\n",
    "        print(\"A\")        \n",
    "elif grade <= 80 :\n",
    "        print()\n",
    "else:\n",
    "    print(\"Fail\")"
   ]
  },
  {
   "cell_type": "code",
   "execution_count": 67,
   "id": "5672afc9",
   "metadata": {},
   "outputs": [
    {
     "ename": "IndentationError",
     "evalue": "expected an indented block (1011403142.py, line 18)",
     "output_type": "error",
     "traceback": [
      "\u001b[1;36m  Input \u001b[1;32mIn [67]\u001b[1;36m\u001b[0m\n\u001b[1;33m    else:\u001b[0m\n\u001b[1;37m    ^\u001b[0m\n\u001b[1;31mIndentationError\u001b[0m\u001b[1;31m:\u001b[0m expected an indented block\n"
     ]
    }
   ],
   "source": [
    "grade = 88\n",
    "\n",
    "\n",
    "if grade >= 0 and grade < 33:\n",
    "    print(\"Fail\")\n",
    "elif grade >= 33 and grade < 40:\n",
    "    print(\"E\")\n",
    "elif grade >= 40 and grade < 50:\n",
    "        print(\"D\")\n",
    "elif grade >= 50 and grade < 60:\n",
    "        print(\"C\")\n",
    "elif grade >= 60 and grade < 70:\n",
    "        print(\"B\")        \n",
    "elif grade >= 70 and grade < 80:\n",
    "        print(\"A\")\n",
    "elif grade >= 80 and grade < 100:       \n",
    "\n",
    "else:\n",
    "    print(\"Fail\")"
   ]
  },
  {
   "cell_type": "code",
   "execution_count": 78,
   "id": "df50ade8",
   "metadata": {},
   "outputs": [
    {
     "name": "stdout",
     "output_type": "stream",
     "text": [
      "Fail\n"
     ]
    }
   ],
   "source": [
    "grade = 30\n",
    "\n",
    "if grade >= 0 and grade < 33:\n",
    "    print(\"Fail\")\n",
    "elif grade >= 33 and grade < 40:\n",
    "    print(\"E\")\n",
    "elif grade < 50:\n",
    "    print(\"D\")\n",
    "elif grade < 60:\n",
    "    print(\"C\")\n",
    "elif grade < 70:\n",
    "    print(\"B\")\n",
    "elif grade < 80:\n",
    "    print(\"A\")\n",
    "elif grade < 90:\n",
    "    print(\"A+\")\n",
    "elif grade < 100:\n",
    "    print(\"A++\")\n",
    "    \n",
    "else :\n",
    "    print(\"Fail\")    "
   ]
  },
  {
   "cell_type": "code",
   "execution_count": 74,
   "id": "d677c058",
   "metadata": {},
   "outputs": [
    {
     "name": "stdout",
     "output_type": "stream",
     "text": [
      "A+\n"
     ]
    }
   ],
   "source": [
    "grade = 87\n",
    "\n",
    "if grade >= 0 and grade < 33:\n",
    "    print(\"Fail\")\n",
    "elif grade >= 33 and grade < 40:\n",
    "    print(\"E\")\n",
    "elif grade >= 40 and grade < 50:\n",
    "    print(\"D\")\n",
    "elif grade >= 50 and grade < 60:\n",
    "    print(\"C\")\n",
    "elif grade >= 60 and grade < 70:\n",
    "    print(\"B\")\n",
    "elif grade >= 70 and grade < 80:\n",
    "    print(\"A\")\n",
    "elif grade >= 80 and grade < 90:\n",
    "    print(\"A+\")\n",
    "elif grade >= 90 and grade < 100:\n",
    "    print(\"A++\")\n",
    "\n",
    "else :\n",
    "    print(\"Fail\")"
   ]
  },
  {
   "cell_type": "code",
   "execution_count": null,
   "id": "105dea99",
   "metadata": {},
   "outputs": [],
   "source": [
    "# pemdas\n",
    "# bodmas\n",
    "1+2-3+4*2/2\n",
    "1+2-3+4*1\n",
    "1+2-3+4\n",
    "3-3+4\n",
    "4"
   ]
  },
  {
   "cell_type": "code",
   "execution_count": null,
   "id": "1b8258dd",
   "metadata": {},
   "outputs": [],
   "source": [
    "3-5*2/6**3*(1-2+5)\n",
    "3-5*2/216*(1-2+5)\n",
    "3-5*2/216*(-1+5)\n",
    "3-5*2/216*(-1+5)\n",
    "3-5*108*4\n"
   ]
  },
  {
   "cell_type": "code",
   "execution_count": null,
   "id": "7eae00f8",
   "metadata": {},
   "outputs": [],
   "source": [
    "# while loop\n",
    "\n",
    "syntax:\n",
    "    \n",
    "'''\n",
    "flag = True\n",
    "\n",
    "while flag:\n",
    "    loop body\n",
    "    flag update\n"
   ]
  },
  {
   "cell_type": "code",
   "execution_count": 43,
   "id": "e58b17cf",
   "metadata": {},
   "outputs": [
    {
     "name": "stdout",
     "output_type": "stream",
     "text": [
      "0\n",
      "1\n",
      "2\n",
      "3\n",
      "4\n",
      "5\n",
      "6\n",
      "7\n",
      "8\n",
      "9\n",
      "10\n"
     ]
    }
   ],
   "source": [
    "counter = 0\n",
    "\n",
    "while counter <= 10:\n",
    "    print(counter)\n",
    "    counter += 1"
   ]
  },
  {
   "cell_type": "code",
   "execution_count": 45,
   "id": "03150cb3",
   "metadata": {},
   "outputs": [
    {
     "name": "stdout",
     "output_type": "stream",
     "text": [
      "1\n",
      "2\n",
      "3\n",
      "4\n",
      "6\n",
      "7\n",
      "8\n",
      "9\n",
      "10\n",
      "11\n"
     ]
    }
   ],
   "source": [
    "counter = 0\n",
    "\n",
    "while counter <= 10:\n",
    "    counter += 1\n",
    "    if counter == 5:\n",
    "        continue\n",
    "    print(counter)"
   ]
  },
  {
   "cell_type": "code",
   "execution_count": 46,
   "id": "be48b9e9",
   "metadata": {},
   "outputs": [
    {
     "name": "stdout",
     "output_type": "stream",
     "text": [
      "1\n",
      "2\n",
      "3\n",
      "4\n"
     ]
    }
   ],
   "source": [
    "counter = 0\n",
    "\n",
    "while counter <= 10:\n",
    "    counter += 1\n",
    "    if counter == 5:\n",
    "        break\n",
    "    print(counter)"
   ]
  },
  {
   "cell_type": "code",
   "execution_count": null,
   "id": "1e5c366a",
   "metadata": {},
   "outputs": [],
   "source": []
  }
 ],
 "metadata": {
  "kernelspec": {
   "display_name": "Python 3 (ipykernel)",
   "language": "python",
   "name": "python3"
  },
  "language_info": {
   "codemirror_mode": {
    "name": "ipython",
    "version": 3
   },
   "file_extension": ".py",
   "mimetype": "text/x-python",
   "name": "python",
   "nbconvert_exporter": "python",
   "pygments_lexer": "ipython3",
   "version": "3.9.12"
  }
 },
 "nbformat": 4,
 "nbformat_minor": 5
}
