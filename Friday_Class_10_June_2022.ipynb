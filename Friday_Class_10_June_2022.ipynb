{
 "cells": [
  {
   "cell_type": "code",
   "execution_count": 2,
   "id": "7447c5cf",
   "metadata": {},
   "outputs": [],
   "source": [
    "name = 'S Khan'\n",
    "university = \"Hamdard University\"\n",
    "department = \"Managament Sciences\"\n",
    "reg_no = 2000588"
   ]
  },
  {
   "cell_type": "code",
   "execution_count": 3,
   "id": "e543586e",
   "metadata": {},
   "outputs": [
    {
     "name": "stdout",
     "output_type": "stream",
     "text": [
      "S Khan\n"
     ]
    }
   ],
   "source": [
    "print(name)"
   ]
  },
  {
   "cell_type": "code",
   "execution_count": 4,
   "id": "cc6e8e29",
   "metadata": {},
   "outputs": [
    {
     "name": "stdout",
     "output_type": "stream",
     "text": [
      "\n",
      "name = S Khan\n",
      "university = Hamdard University\n",
      "department = Managament Sciences\n",
      "reg_no = 2000588\n"
     ]
    }
   ],
   "source": [
    "admit_card = f\"\"\"\n",
    "name = {name}\n",
    "university = {university}\n",
    "department = {department}\n",
    "reg_no = {reg_no}\"\"\"\n",
    "print(admit_card)"
   ]
  },
  {
   "cell_type": "code",
   "execution_count": null,
   "id": "d9db32e9",
   "metadata": {},
   "outputs": [],
   "source": [
    "operators\n",
    "= assign value\n",
    "+ addition\n",
    "- substraction\n",
    "* multiplication\n",
    "/ division\n",
    "% modulas\n",
    "// flood division\n",
    "\n",
    "assign / arthematic / comparative\n",
    "expresssion vs statement (difference between Assignment)\n"
   ]
  },
  {
   "cell_type": "code",
   "execution_count": null,
   "id": "fed90f6d",
   "metadata": {},
   "outputs": [],
   "source": [
    "# expression vs statement (python naming conventions) Assignment"
   ]
  },
  {
   "cell_type": "code",
   "execution_count": 6,
   "id": "ed796b6f",
   "metadata": {},
   "outputs": [],
   "source": [
    "## Assign Operator"
   ]
  },
  {
   "cell_type": "code",
   "execution_count": null,
   "id": "18cb3517",
   "metadata": {},
   "outputs": [],
   "source": [
    "# variable_name = value\n",
    "# "
   ]
  },
  {
   "cell_type": "code",
   "execution_count": 11,
   "id": "a5e4d823",
   "metadata": {},
   "outputs": [],
   "source": [
    "teacher_name = \"Muhammad Qasim\"\n",
    "teacher_name = 'Muhammad Qasim'\n",
    "teacher_name = \"\"\"Muhammad Qasim\"\"\"\n",
    "teacher_name = '''Muhammad Qasim'''"
   ]
  },
  {
   "cell_type": "code",
   "execution_count": 12,
   "id": "4af639de",
   "metadata": {},
   "outputs": [
    {
     "name": "stdout",
     "output_type": "stream",
     "text": [
      "Muhammad Qasim\n",
      "<class 'str'>\n",
      "2100497120688\n"
     ]
    }
   ],
   "source": [
    "print(teacher_name)\n",
    "print(type(teacher_name))\n",
    "print(id(teacher_name))"
   ]
  },
  {
   "cell_type": "code",
   "execution_count": 14,
   "id": "b5b867c3",
   "metadata": {},
   "outputs": [],
   "source": [
    "t1 = \"Muhammad Qasim\"\n",
    "t2 = 'Muhammad Qasim'"
   ]
  },
  {
   "cell_type": "code",
   "execution_count": 18,
   "id": "53c6e214",
   "metadata": {},
   "outputs": [
    {
     "name": "stdout",
     "output_type": "stream",
     "text": [
      "Muhammad Qasim\n",
      "<class 'str'>\n",
      "2100497147120\n",
      "Muhammad Qasim\n",
      "<class 'str'>\n",
      "2100497145968\n"
     ]
    }
   ],
   "source": [
    "print(t1)\n",
    "print(type(t1))\n",
    "print(id(t1))\n",
    "\n",
    "print(t2)\n",
    "print(type(t2))\n",
    "print(id(t2))"
   ]
  },
  {
   "cell_type": "code",
   "execution_count": null,
   "id": "cdb7f8ee",
   "metadata": {},
   "outputs": [],
   "source": [
    "nick_name = Shallow Copy\n",
    "original_name = Deep Copy "
   ]
  },
  {
   "cell_type": "code",
   "execution_count": 19,
   "id": "20bcd16c",
   "metadata": {},
   "outputs": [
    {
     "name": "stdout",
     "output_type": "stream",
     "text": [
      "15\n"
     ]
    }
   ],
   "source": [
    "num1 = 10 # int\n",
    "num2 = 5 # int\n",
    "print(num1 + num2) # result int"
   ]
  },
  {
   "cell_type": "code",
   "execution_count": 20,
   "id": "cc24cb91",
   "metadata": {},
   "outputs": [
    {
     "name": "stdout",
     "output_type": "stream",
     "text": [
      "15.2\n"
     ]
    }
   ],
   "source": [
    "num1 = 10.2 # float\n",
    "num2 = 5 # int\n",
    "print(num1 + num2) # result float"
   ]
  },
  {
   "cell_type": "code",
   "execution_count": 21,
   "id": "54589be7",
   "metadata": {},
   "outputs": [
    {
     "name": "stdout",
     "output_type": "stream",
     "text": [
      "15.2\n",
      "<class 'float'>\n"
     ]
    }
   ],
   "source": [
    "num1 = 10.2 # float\n",
    "num2 = 5 # int\n",
    "result = (num1 + num2) # result float\n",
    "print(result)\n",
    "print(type(result))"
   ]
  },
  {
   "cell_type": "code",
   "execution_count": 23,
   "id": "156b97bc",
   "metadata": {},
   "outputs": [
    {
     "name": "stdout",
     "output_type": "stream",
     "text": [
      "5\n"
     ]
    }
   ],
   "source": [
    "num1 = 10 # float\n",
    "num2 = 5 # int\n",
    "print(num1 - num2) # result float"
   ]
  },
  {
   "cell_type": "code",
   "execution_count": 24,
   "id": "9b569ffe",
   "metadata": {},
   "outputs": [
    {
     "name": "stdout",
     "output_type": "stream",
     "text": [
      "50\n"
     ]
    }
   ],
   "source": []
  },
  {
   "cell_type": "code",
   "execution_count": 25,
   "id": "9dbee37b",
   "metadata": {},
   "outputs": [
    {
     "name": "stdout",
     "output_type": "stream",
     "text": [
      "2.0\n"
     ]
    }
   ],
   "source": [
    "num1 = 10 # int\n",
    "num2 = 5 # int\n",
    "print(num1 / num2) # result float"
   ]
  },
  {
   "cell_type": "code",
   "execution_count": 26,
   "id": "77e8c39c",
   "metadata": {},
   "outputs": [
    {
     "name": "stdout",
     "output_type": "stream",
     "text": [
      "2\n"
     ]
    }
   ],
   "source": [
    "num1 = 11 # float\n",
    "num2 = 3 # int\n",
    "print(num1 % num2) # result int"
   ]
  },
  {
   "cell_type": "code",
   "execution_count": 27,
   "id": "2db2c0fc",
   "metadata": {},
   "outputs": [
    {
     "name": "stdout",
     "output_type": "stream",
     "text": [
      "2.0\n"
     ]
    }
   ],
   "source": [
    "num1 = 10 # int\n",
    "num2 = 5 # int\n",
    "print(num1 / num2) # result float\n"
   ]
  },
  {
   "cell_type": "code",
   "execution_count": 28,
   "id": "51deb4fa",
   "metadata": {},
   "outputs": [
    {
     "name": "stdout",
     "output_type": "stream",
     "text": [
      "2\n"
     ]
    }
   ],
   "source": [
    "num1 = 14 # int\n",
    "num2 = 5 # int\n",
    "print(num1 // num2) # result int\n"
   ]
  },
  {
   "cell_type": "code",
   "execution_count": null,
   "id": "e30707af",
   "metadata": {},
   "outputs": [],
   "source": [
    "Assign Operator"
   ]
  },
  {
   "cell_type": "code",
   "execution_count": 31,
   "id": "5612bd0f",
   "metadata": {},
   "outputs": [
    {
     "name": "stdout",
     "output_type": "stream",
     "text": [
      "5\n",
      "8\n",
      "11\n"
     ]
    }
   ],
   "source": [
    "a = 5\n",
    "print(a)\n",
    "a = a + 3\n",
    "print(a)\n",
    "a += 3\n",
    "print(a)"
   ]
  },
  {
   "cell_type": "markdown",
   "id": "98415de5",
   "metadata": {},
   "source": [
    "# String Concatination\n",
    "# # string formation "
   ]
  },
  {
   "cell_type": "code",
   "execution_count": 35,
   "id": "acea0776",
   "metadata": {},
   "outputs": [
    {
     "name": "stdout",
     "output_type": "stream",
     "text": [
      "\n",
      "a          Karachi\n",
      "b\n",
      "c\n",
      "\n"
     ]
    }
   ],
   "source": [
    "student_card = \"\"\"\n",
    "a          Karachi\n",
    "b\n",
    "c\n",
    "\"\"\"\n",
    "\n",
    "print(student_card)"
   ]
  },
  {
   "cell_type": "markdown",
   "id": "a8148256",
   "metadata": {},
   "source": [
    "# # https://www,tutorialspoint.com/python/python_str"
   ]
  },
  {
   "cell_type": "code",
   "execution_count": 36,
   "id": "616b76b7",
   "metadata": {},
   "outputs": [
    {
     "name": "stdout",
     "output_type": "stream",
     "text": [
      "\n",
      "Saylani Welfare International Trust\n",
      "Advance Data Science / Artificial Intelligence\n",
      "\n",
      "Roll no: 00012\n",
      "\n",
      "Name: Shahzad Khan \t Father's Name: Shabbir Khan\n",
      "Batch: 3              Timings:09:00 pm 12:00 am     \n",
      "\n"
     ]
    }
   ],
   "source": [
    "student_card = \"\"\"\n",
    "Saylani Welfare International Trust\n",
    "Advance Data Science / Artificial Intelligence\n",
    "\n",
    "Roll no: 00012\n",
    "\n",
    "Name: Shahzad Khan \\t Father's Name: Shabbir Khan\n",
    "Batch: 3              Timings:09:00 pm 12:00 am     \n",
    "\"\"\"\n",
    "\n",
    "print(student_card)"
   ]
  },
  {
   "cell_type": "code",
   "execution_count": 37,
   "id": "33fe0ee5",
   "metadata": {},
   "outputs": [
    {
     "name": "stdout",
     "output_type": "stream",
     "text": [
      "\n",
      "Saylani Welfare International Trust\n",
      "Advance Data Science / Artificial Intelligence\n",
      "\n",
      "Roll no: {}\n",
      "\n",
      "Name: {} \t Father's Name: {}\n",
      "Batch: {}              Timings: {}     \n",
      "\n"
     ]
    }
   ],
   "source": [
    "student_card = \"\"\"\n",
    "Saylani Welfare International Trust\n",
    "Advance Data Science / Artificial Intelligence\n",
    "\n",
    "Roll no: {}\n",
    "\n",
    "Name: {} \\t Father's Name: {}\n",
    "Batch: {}              Timings: {}     \n",
    "\"\"\"\n",
    "\n",
    "print(student_card)"
   ]
  },
  {
   "cell_type": "code",
   "execution_count": 38,
   "id": "0a4f5bda",
   "metadata": {},
   "outputs": [
    {
     "name": "stdout",
     "output_type": "stream",
     "text": [
      "\n",
      "Saylani Welfare International Trust\n",
      "Advance Data Science / Artificial Intelligence\n",
      "\n",
      "Roll no: 00012\n",
      "\n",
      "Name: Shahzad Khan \t Father's Name: Shabbir Khan\n",
      "Batch: Batch 3              Timings: 09:00pm - 12:00am     \n",
      "\n"
     ]
    }
   ],
   "source": [
    "roll_no = '00012'\n",
    "student_name = \"Shahzad Khan\"\n",
    "f_name = \"Shabbir Khan\"\n",
    "batch = \"Batch 3\"\n",
    "timings = \"09:00pm - 12:00am\"\n",
    "\n",
    "student_card = f\"\"\"\n",
    "Saylani Welfare International Trust\n",
    "Advance Data Science / Artificial Intelligence\n",
    "\n",
    "Roll no: {roll_no}\n",
    "\n",
    "Name: {student_name} \\t Father's Name: {f_name}\n",
    "Batch: {batch}              Timings: {timings}     \n",
    "\"\"\"\n",
    "\n",
    "print(student_card)"
   ]
  },
  {
   "cell_type": "code",
   "execution_count": 39,
   "id": "d6679243",
   "metadata": {},
   "outputs": [
    {
     "name": "stdout",
     "output_type": "stream",
     "text": [
      "\n",
      "Saylani Welfare International Trust\n",
      "Advance Data Science / Artificial Intelligence\n",
      "\n",
      "Roll no: 00012\n",
      "\n",
      "Name: Shahzad Khan \t Father's Name: Shabbir Khan\n",
      "Batch: Batch 3              Timings: 09:00pm - 12:00am     \n",
      "\n"
     ]
    }
   ],
   "source": [
    "student_card = \"\"\"\n",
    "Saylani Welfare International Trust\n",
    "Advance Data Science / Artificial Intelligence\n",
    "\n",
    "Roll no: {}\n",
    "\n",
    "Name: {} \\t Father's Name: {}\n",
    "Batch: {}              Timings: {}     \n",
    "\"\"\" .format(roll_no, student_name, f_name, batch, timings)\n",
    "\n",
    "print(student_card)"
   ]
  },
  {
   "cell_type": "code",
   "execution_count": 40,
   "id": "727db1d8",
   "metadata": {},
   "outputs": [
    {
     "name": "stdout",
     "output_type": "stream",
     "text": [
      "\n",
      "Saylani Welfare International Trust\n",
      "Advance Data Science / Artificial Intelligence\n",
      "\n",
      "Roll no: Shahzad Khan\n",
      "\n",
      "Name: 00012 \t Father's Name: Shabbir Khan\n",
      "Batch: Batch 3              Timings: 09:00pm - 12:00am     \n",
      "\n"
     ]
    }
   ],
   "source": [
    "student_card = \"\"\"\n",
    "Saylani Welfare International Trust\n",
    "Advance Data Science / Artificial Intelligence\n",
    "\n",
    "Roll no: {1}\n",
    "\n",
    "Name: {0} \\t Father's Name: {2}\n",
    "Batch: {3}              Timings: {4}     \n",
    "\"\"\" .format(roll_no, student_name, f_name, batch, timings)\n",
    "\n",
    "print(student_card)"
   ]
  },
  {
   "cell_type": "markdown",
   "id": "1278b6b6",
   "metadata": {},
   "source": [
    "# + operator with string"
   ]
  },
  {
   "cell_type": "code",
   "execution_count": 42,
   "id": "cc3df6e9",
   "metadata": {},
   "outputs": [
    {
     "ename": "SyntaxError",
     "evalue": "invalid syntax (1914035087.py, line 1)",
     "output_type": "error",
     "traceback": [
      "\u001b[1;36m  Input \u001b[1;32mIn [42]\u001b[1;36m\u001b[0m\n\u001b[1;33m    a1 = \"1\" string\u001b[0m\n\u001b[1;37m             ^\u001b[0m\n\u001b[1;31mSyntaxError\u001b[0m\u001b[1;31m:\u001b[0m invalid syntax\n"
     ]
    }
   ],
   "source": [
    "a1 = \"1\" string\n",
    "a2 = \"1\" string\n",
    "print(a1+a2) concatination"
   ]
  },
  {
   "cell_type": "code",
   "execution_count": 43,
   "id": "aaacfae5",
   "metadata": {},
   "outputs": [
    {
     "data": {
      "text/plain": [
       "'total obtain marks: 230'"
      ]
     },
     "execution_count": 43,
     "metadata": {},
     "output_type": "execute_result"
    }
   ],
   "source": [
    "s1 = 70\n",
    "s2 = 50\n",
    "s3 = 80\n",
    "s4 = 30\n",
    "\n",
    "\"total obtain marks: \" + str(s1+s2+s3+s4)"
   ]
  },
  {
   "cell_type": "code",
   "execution_count": 15,
   "id": "8005581d",
   "metadata": {},
   "outputs": [
    {
     "ename": "SyntaxError",
     "evalue": "EOL while scanning string literal (2227785324.py, line 6)",
     "output_type": "error",
     "traceback": [
      "\u001b[1;36m  Input \u001b[1;32mIn [15]\u001b[1;36m\u001b[0m\n\u001b[1;33m    f\"total obtain marks: + str(s1+s2+s3+s4)\u001b[0m\n\u001b[1;37m                                            ^\u001b[0m\n\u001b[1;31mSyntaxError\u001b[0m\u001b[1;31m:\u001b[0m EOL while scanning string literal\n"
     ]
    }
   ],
   "source": [
    "s1 = 70\n",
    "s2 = 50\n",
    "s3 = 80\n",
    "s4 = 30\n",
    "\n",
    "f\"total obtain marks: + str(s1+s2+s3+s4)"
   ]
  },
  {
   "cell_type": "code",
   "execution_count": null,
   "id": "314e1f6e",
   "metadata": {},
   "outputs": [],
   "source": [
    "# return funtion = Answer can be use as variable"
   ]
  },
  {
   "cell_type": "code",
   "execution_count": 47,
   "id": "5ba6ee4d",
   "metadata": {},
   "outputs": [
    {
     "name": "stdout",
     "output_type": "stream",
     "text": [
      "Qasim\n",
      "None\n"
     ]
    }
   ],
   "source": [
    "a1 = print(\"Qasim\")\n",
    "print(a1)"
   ]
  },
  {
   "cell_type": "code",
   "execution_count": 14,
   "id": "7da68b7b",
   "metadata": {},
   "outputs": [
    {
     "name": "stdout",
     "output_type": "stream",
     "text": [
      "Your Good Name Shahzad Khan\n"
     ]
    }
   ],
   "source": [
    "a1 = input(\"Your Good Name \") # Always return string value"
   ]
  },
  {
   "cell_type": "markdown",
   "id": "e5a44662",
   "metadata": {},
   "source": [
    "#  Logical Operators - Boolean Operators"
   ]
  },
  {
   "cell_type": "code",
   "execution_count": 50,
   "id": "003f1d72",
   "metadata": {},
   "outputs": [
    {
     "data": {
      "text/plain": [
       "False"
      ]
     },
     "execution_count": 50,
     "metadata": {},
     "output_type": "execute_result"
    }
   ],
   "source": [
    "a1 = \"Shahzad\"\n",
    "a2 = \"Shahzad Khan\"\n",
    "a1 == a2"
   ]
  },
  {
   "cell_type": "code",
   "execution_count": 51,
   "id": "4e348134",
   "metadata": {},
   "outputs": [
    {
     "data": {
      "text/plain": [
       "False"
      ]
     },
     "execution_count": 51,
     "metadata": {},
     "output_type": "execute_result"
    }
   ],
   "source": [
    "a1 = \"Shahzad\"\n",
    "a2 = \"shahzad Khan\"\n",
    "a1 == a2"
   ]
  },
  {
   "cell_type": "code",
   "execution_count": 52,
   "id": "0b4a95f4",
   "metadata": {},
   "outputs": [
    {
     "data": {
      "text/plain": [
       "True"
      ]
     },
     "execution_count": 52,
     "metadata": {},
     "output_type": "execute_result"
    }
   ],
   "source": [
    "5 > 3"
   ]
  },
  {
   "cell_type": "code",
   "execution_count": 53,
   "id": "3262a06c",
   "metadata": {},
   "outputs": [
    {
     "data": {
      "text/plain": [
       "False"
      ]
     },
     "execution_count": 53,
     "metadata": {},
     "output_type": "execute_result"
    }
   ],
   "source": [
    "5 > 7"
   ]
  },
  {
   "cell_type": "code",
   "execution_count": 54,
   "id": "b339760f",
   "metadata": {},
   "outputs": [
    {
     "data": {
      "text/plain": [
       "False"
      ]
     },
     "execution_count": 54,
     "metadata": {},
     "output_type": "execute_result"
    }
   ],
   "source": [
    "5 < 3"
   ]
  },
  {
   "cell_type": "code",
   "execution_count": 55,
   "id": "f8404db2",
   "metadata": {},
   "outputs": [
    {
     "data": {
      "text/plain": [
       "True"
      ]
     },
     "execution_count": 55,
     "metadata": {},
     "output_type": "execute_result"
    }
   ],
   "source": [
    "5 < 7"
   ]
  },
  {
   "cell_type": "code",
   "execution_count": 56,
   "id": "54dd35a9",
   "metadata": {},
   "outputs": [
    {
     "data": {
      "text/plain": [
       "True"
      ]
     },
     "execution_count": 56,
     "metadata": {},
     "output_type": "execute_result"
    }
   ],
   "source": [
    "5 >= 5"
   ]
  },
  {
   "cell_type": "code",
   "execution_count": 58,
   "id": "d63e193f",
   "metadata": {},
   "outputs": [
    {
     "data": {
      "text/plain": [
       "True"
      ]
     },
     "execution_count": 58,
     "metadata": {},
     "output_type": "execute_result"
    }
   ],
   "source": [
    "5 <= 5"
   ]
  },
  {
   "cell_type": "code",
   "execution_count": 59,
   "id": "ce05ebb5",
   "metadata": {},
   "outputs": [
    {
     "data": {
      "text/plain": [
       "False"
      ]
     },
     "execution_count": 59,
     "metadata": {},
     "output_type": "execute_result"
    }
   ],
   "source": [
    "5 != 5"
   ]
  },
  {
   "cell_type": "markdown",
   "id": "bf175d77",
   "metadata": {},
   "source": [
    "# Python Membership Operator"
   ]
  },
  {
   "cell_type": "code",
   "execution_count": 12,
   "id": "e51ec60c",
   "metadata": {},
   "outputs": [
    {
     "data": {
      "text/plain": [
       "True"
      ]
     },
     "execution_count": 12,
     "metadata": {},
     "output_type": "execute_result"
    }
   ],
   "source": [
    "p1 = \"\"\"\n",
    "We are leraning AI in Saylani, We love to write python code... \"\"\"\n",
    "\n",
    "'Saylani' in p1"
   ]
  },
  {
   "cell_type": "code",
   "execution_count": 11,
   "id": "cb49e9d2",
   "metadata": {},
   "outputs": [
    {
     "data": {
      "text/plain": [
       "False"
      ]
     },
     "execution_count": 11,
     "metadata": {},
     "output_type": "execute_result"
    }
   ],
   "source": [
    "p1 = \"\"\"\n",
    "We are leraning AI in Saylani, We love to write python code... \"\"\"\n",
    "\n",
    "'Saylani' not in p1"
   ]
  },
  {
   "cell_type": "markdown",
   "id": "35ad9cca",
   "metadata": {},
   "source": [
    "# Python Identity Operators"
   ]
  },
  {
   "cell_type": "code",
   "execution_count": 62,
   "id": "569f68cb",
   "metadata": {},
   "outputs": [
    {
     "data": {
      "text/plain": [
       "True"
      ]
     },
     "execution_count": 62,
     "metadata": {},
     "output_type": "execute_result"
    }
   ],
   "source": [
    "a1 = \"Shahzad\"\n",
    "a2 = \"Shahzad\"\n",
    "\n",
    "a1 is a2 "
   ]
  },
  {
   "cell_type": "code",
   "execution_count": 65,
   "id": "a92f53fe",
   "metadata": {},
   "outputs": [
    {
     "name": "stdout",
     "output_type": "stream",
     "text": [
      "\n",
      "\n",
      "PAKISTAN  NATIONAL IDENTITY CARD\n",
      "Name: Shahzad Khan\n",
      "Father's Name: Shabbir Khan\n",
      "Gender: Male   Country of Stay: Pakistan\n",
      "Identity Number: -8600521   Date of Birth: 20-07-1984\n",
      "Date of Issue: 01-01-2020     Date of Expiry: 01-01-2030\n"
     ]
    }
   ],
   "source": [
    "name = \"Shahzad Khan\"\n",
    "f_name = \"Shabbir Khan\"\n",
    "gender = \"Male\"\n",
    "id_no = 42000-8642519-2\n",
    "dob = '20-07-1984'\n",
    "doi = '01-01-2020'\n",
    "doe = '01-01-2030'\n",
    "\n",
    "cnic_card = f\"\"\"\n",
    "\n",
    "PAKISTAN  NATIONAL IDENTITY CARD\n",
    "Name: {name}\n",
    "Father's Name: {f_name}\n",
    "Gender: {gender}   Country of Stay: Pakistan\n",
    "Identity Number: {id_no}   Date of Birth: {dob}\n",
    "Date of Issue: {doi}     Date of Expiry: {doe}\"\"\"\n",
    "print(cnic_card)\n",
    "\n",
    "\n"
   ]
  },
  {
   "cell_type": "code",
   "execution_count": 10,
   "id": "c5bc9a9d",
   "metadata": {},
   "outputs": [
    {
     "name": "stdout",
     "output_type": "stream",
     "text": [
      "Maths 80\n",
      "Science 77\n",
      "Pakistan Studies 89\n",
      "Islamiyat 90\n",
      "Urdu 82\n",
      "Total Number 418\n",
      "83.6\n"
     ]
    }
   ],
   "source": [
    "a1 = int(input(\"Maths \"))\n",
    "a2 = int(input(\"Science \"))\n",
    "a3 = int(input(\"Pakistan Studies \"))\n",
    "a4 = int(input(\"Islamiyat \"))\n",
    "a5 = int(input(\"Urdu \"))\n",
    "re = (a1 + a2 + a3 + a4 + a5)\n",
    "print(\"Total Number\", re)\n",
    "per = (re/500*100)\n",
    "print(per)\n"
   ]
  },
  {
   "cell_type": "code",
   "execution_count": null,
   "id": "ae4370f1",
   "metadata": {},
   "outputs": [],
   "source": []
  }
 ],
 "metadata": {
  "kernelspec": {
   "display_name": "Python 3 (ipykernel)",
   "language": "python",
   "name": "python3"
  },
  "language_info": {
   "codemirror_mode": {
    "name": "ipython",
    "version": 3
   },
   "file_extension": ".py",
   "mimetype": "text/x-python",
   "name": "python",
   "nbconvert_exporter": "python",
   "pygments_lexer": "ipython3",
   "version": "3.9.12"
  }
 },
 "nbformat": 4,
 "nbformat_minor": 5
}
