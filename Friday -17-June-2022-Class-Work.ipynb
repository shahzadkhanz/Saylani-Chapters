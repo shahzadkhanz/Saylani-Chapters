{
 "cells": [
  {
   "cell_type": "markdown",
   "id": "78a240bf",
   "metadata": {},
   "source": [
    "# Nested - "
   ]
  },
  {
   "cell_type": "markdown",
   "id": "e7e4da4f",
   "metadata": {},
   "source": [
    "# Tupple\n",
    "are immutable and can not be change"
   ]
  },
  {
   "cell_type": "markdown",
   "id": "9d8905a1",
   "metadata": {},
   "source": [
    "# Set {}\n",
    "# Dictionary {}"
   ]
  },
  {
   "cell_type": "markdown",
   "id": "9008467f",
   "metadata": {},
   "source": [
    "# Class 5:\n",
    "    * Nested List\n",
    "    * Tuple\n",
    "    * Set\n",
    "    * Dictionary"
   ]
  },
  {
   "cell_type": "code",
   "execution_count": 6,
   "id": "358f29a8",
   "metadata": {},
   "outputs": [
    {
     "name": "stdout",
     "output_type": "stream",
     "text": [
      "asif\n",
      "DS\n"
     ]
    }
   ],
   "source": [
    "data = [['1','qasim','msds'],\n",
    "        ['2','asif','ai'],\n",
    "        ['3','kashif','DS']]\n",
    "print(data[1][1])\n",
    "print(data[2][-1])"
   ]
  },
  {
   "cell_type": "markdown",
   "id": "d0acd73f",
   "metadata": {},
   "source": [
    "# tuple"
   ]
  },
  {
   "cell_type": "code",
   "execution_count": 12,
   "id": "7c095858",
   "metadata": {},
   "outputs": [
    {
     "name": "stdout",
     "output_type": "stream",
     "text": [
      "Akram\n",
      "Qasim\n",
      "('Shahzad', 'Qasim')\n"
     ]
    }
   ],
   "source": [
    "names = ('Shahzad','Qasim','Akram')\n",
    "print(names[-1])\n",
    "print(names[-2])\n",
    "print(names[:2])\n"
   ]
  },
  {
   "cell_type": "code",
   "execution_count": 11,
   "id": "920805df",
   "metadata": {},
   "outputs": [
    {
     "ename": "SyntaxError",
     "evalue": "invalid syntax (4010907619.py, line 1)",
     "output_type": "error",
     "traceback": [
      "\u001b[1;36m  Input \u001b[1;32mIn [11]\u001b[1;36m\u001b[0m\n\u001b[1;33m    names[-1-] = \"Hamza\"\u001b[0m\n\u001b[1;37m             ^\u001b[0m\n\u001b[1;31mSyntaxError\u001b[0m\u001b[1;31m:\u001b[0m invalid syntax\n"
     ]
    }
   ],
   "source": [
    "names = ('Shahzad','Qasim','Akram')"
   ]
  },
  {
   "cell_type": "code",
   "execution_count": 13,
   "id": "24e5539f",
   "metadata": {},
   "outputs": [
    {
     "ename": "SyntaxError",
     "evalue": "invalid syntax (4010907619.py, line 1)",
     "output_type": "error",
     "traceback": [
      "\u001b[1;36m  Input \u001b[1;32mIn [13]\u001b[1;36m\u001b[0m\n\u001b[1;33m    names[-1-] = \"Hamza\"\u001b[0m\n\u001b[1;37m             ^\u001b[0m\n\u001b[1;31mSyntaxError\u001b[0m\u001b[1;31m:\u001b[0m invalid syntax\n"
     ]
    }
   ],
   "source": [
    "names[-1-] = \"Hamza\" "
   ]
  },
  {
   "cell_type": "markdown",
   "id": "d7727e27",
   "metadata": {},
   "source": [
    " # Set"
   ]
  },
  {
   "cell_type": "code",
   "execution_count": 14,
   "id": "db556063",
   "metadata": {},
   "outputs": [
    {
     "data": {
      "text/plain": [
       "{'Arshad', 'Khan', 'Qasim', 'Shahzad'}"
      ]
     },
     "execution_count": 14,
     "metadata": {},
     "output_type": "execute_result"
    }
   ],
   "source": [
    "names = {\"Shahzad\", \"Qasim\", \"Khan\",'Arshad','Khan'}\n",
    "names"
   ]
  },
  {
   "cell_type": "code",
   "execution_count": 15,
   "id": "0e7381c7",
   "metadata": {},
   "outputs": [
    {
     "data": {
      "text/plain": [
       "{'a', 'b'}"
      ]
     },
     "execution_count": 15,
     "metadata": {},
     "output_type": "execute_result"
    }
   ],
   "source": [
    "set(['a','b','a','a'])"
   ]
  },
  {
   "cell_type": "markdown",
   "id": "a8476319",
   "metadata": {},
   "source": [
    "# Dictionary"
   ]
  },
  {
   "cell_type": "code",
   "execution_count": null,
   "id": "e2ab9aca",
   "metadata": {},
   "outputs": [],
   "source": [
    "index - key\n",
    "value - elements"
   ]
  },
  {
   "cell_type": "code",
   "execution_count": 16,
   "id": "71967ba4",
   "metadata": {},
   "outputs": [
    {
     "ename": "SyntaxError",
     "evalue": "invalid syntax (441314833.py, line 1)",
     "output_type": "error",
     "traceback": [
      "\u001b[1;36m  Input \u001b[1;32mIn [16]\u001b[1;36m\u001b[0m\n\u001b[1;33m    0         1    2          2          # index\u001b[0m\n\u001b[1;37m              ^\u001b[0m\n\u001b[1;31mSyntaxError\u001b[0m\u001b[1;31m:\u001b[0m invalid syntax\n"
     ]
    }
   ],
   "source": [
    "            0         1    2          2          # index      \n",
    "data = ['Shahzad','Khan','AI','9 pm to 12 am']  # Value / elements\n",
    "# key always int or string, hashable\n",
    "data = {\n",
    "    #key  :  value\n",
    "    \"name\":'Shahzad',\n",
    "    'fname':'Khan',\n",
    "    'course':'AI',\n",
    "    'timing':'9 pm to 12 am'\n",
    "}\n",
    "\n",
    "data"
   ]
  },
  {
   "cell_type": "code",
   "execution_count": 17,
   "id": "7f789f8c",
   "metadata": {},
   "outputs": [
    {
     "data": {
      "text/plain": [
       "{'name': 'Shahzad', 'fname': 'Khan', 'course': 'AI', 'timing': '9 pm to 12 am'}"
      ]
     },
     "execution_count": 17,
     "metadata": {},
     "output_type": "execute_result"
    }
   ],
   "source": [
    "data = ['Shahzad','Khan','AI','9 pm to 12 am']\n",
    "\n",
    "data = {\n",
    "    #key  :  value\n",
    "    \"name\":'Shahzad',\n",
    "    'fname':'Khan',\n",
    "    'course':'AI',\n",
    "    'timing':'9 pm to 12 am'\n",
    "}\n",
    "\n",
    "data"
   ]
  },
  {
   "cell_type": "code",
   "execution_count": 20,
   "id": "26a507b0",
   "metadata": {},
   "outputs": [
    {
     "data": {
      "text/plain": [
       "'AI'"
      ]
     },
     "execution_count": 20,
     "metadata": {},
     "output_type": "execute_result"
    }
   ],
   "source": [
    "data['course']"
   ]
  },
  {
   "cell_type": "code",
   "execution_count": 21,
   "id": "43de7534",
   "metadata": {},
   "outputs": [
    {
     "ename": "AttributeError",
     "evalue": "'dict' object has no attribute '_class_'",
     "output_type": "error",
     "traceback": [
      "\u001b[1;31m---------------------------------------------------------------------------\u001b[0m",
      "\u001b[1;31mAttributeError\u001b[0m                            Traceback (most recent call last)",
      "Input \u001b[1;32mIn [21]\u001b[0m, in \u001b[0;36m<cell line: 1>\u001b[1;34m()\u001b[0m\n\u001b[1;32m----> 1\u001b[0m \u001b[38;5;28mprint\u001b[39m(\u001b[43mdata\u001b[49m\u001b[38;5;241;43m.\u001b[39;49m\u001b[43m_class_\u001b[49m)\n\u001b[0;32m      3\u001b[0m \u001b[38;5;28mdict\u001b[39m\n",
      "\u001b[1;31mAttributeError\u001b[0m: 'dict' object has no attribute '_class_'"
     ]
    }
   ],
   "source": [
    "print(data._class_) # attribute\n",
    "\n",
    "dict"
   ]
  },
  {
   "cell_type": "markdown",
   "id": "c319cc73",
   "metadata": {},
   "source": [
    "# tuple method"
   ]
  },
  {
   "cell_type": "code",
   "execution_count": 22,
   "id": "e939e68a",
   "metadata": {},
   "outputs": [
    {
     "name": "stdout",
     "output_type": "stream",
     "text": [
      "('a', 'b', 'c', 'a')\n"
     ]
    }
   ],
   "source": [
    "names = ('a','b','c','a')\n",
    "print(names)"
   ]
  },
  {
   "cell_type": "code",
   "execution_count": 23,
   "id": "15c9a16e",
   "metadata": {},
   "outputs": [
    {
     "name": "stdout",
     "output_type": "stream",
     "text": [
      "2\n"
     ]
    }
   ],
   "source": [
    "names = ('a','b','c','a')\n",
    "print(names.count('a'))"
   ]
  },
  {
   "cell_type": "code",
   "execution_count": 24,
   "id": "c2ebc4b8",
   "metadata": {},
   "outputs": [
    {
     "name": "stdout",
     "output_type": "stream",
     "text": [
      "1\n"
     ]
    }
   ],
   "source": [
    "names = ('a','b','c','a')\n",
    "print(names.index('b'))"
   ]
  },
  {
   "cell_type": "code",
   "execution_count": 25,
   "id": "c7dc5d71",
   "metadata": {},
   "outputs": [
    {
     "data": {
      "text/plain": [
       "['__add__',\n",
       " '__class__',\n",
       " '__class_getitem__',\n",
       " '__contains__',\n",
       " '__delattr__',\n",
       " '__dir__',\n",
       " '__doc__',\n",
       " '__eq__',\n",
       " '__format__',\n",
       " '__ge__',\n",
       " '__getattribute__',\n",
       " '__getitem__',\n",
       " '__getnewargs__',\n",
       " '__gt__',\n",
       " '__hash__',\n",
       " '__init__',\n",
       " '__init_subclass__',\n",
       " '__iter__',\n",
       " '__le__',\n",
       " '__len__',\n",
       " '__lt__',\n",
       " '__mul__',\n",
       " '__ne__',\n",
       " '__new__',\n",
       " '__reduce__',\n",
       " '__reduce_ex__',\n",
       " '__repr__',\n",
       " '__rmul__',\n",
       " '__setattr__',\n",
       " '__sizeof__',\n",
       " '__str__',\n",
       " '__subclasshook__',\n",
       " 'count',\n",
       " 'index']"
      ]
     },
     "execution_count": 25,
     "metadata": {},
     "output_type": "execute_result"
    }
   ],
   "source": [
    "dir(names)"
   ]
  },
  {
   "cell_type": "code",
   "execution_count": 33,
   "id": "f53a6ae9",
   "metadata": {},
   "outputs": [
    {
     "name": "stdout",
     "output_type": "stream",
     "text": [
      "{'b', 'a', 'c'}\n",
      "{'b', 'f', 'a', 'c'}\n",
      "{'b', 'f', 'a', 'c'}\n",
      "{'f', 'c'}\n"
     ]
    }
   ],
   "source": [
    "a = {'a','b','c','a'}\n",
    "print(a)\n",
    "a.add('f')\n",
    "print(a)\n",
    "# a.clear()\n",
    "print(a)\n",
    "print(a.difference({'a','b','x','y','z'}))"
   ]
  },
  {
   "cell_type": "code",
   "execution_count": 34,
   "id": "b2e07dcc",
   "metadata": {},
   "outputs": [
    {
     "name": "stdout",
     "output_type": "stream",
     "text": [
      "{9, 4, 7}\n"
     ]
    }
   ],
   "source": [
    "old_stu = {1,2,3}\n",
    "new_stu = {1,2,4,7,9}\n",
    "print(new_stu.difference(old_stu))"
   ]
  },
  {
   "cell_type": "code",
   "execution_count": 35,
   "id": "4c37eec0",
   "metadata": {},
   "outputs": [
    {
     "name": "stdout",
     "output_type": "stream",
     "text": [
      "{1, 2}\n"
     ]
    }
   ],
   "source": [
    "old_stu = {1,2,3}\n",
    "new_stu = {1,2,4,7,9}\n",
    "print(new_stu.intersection(old_stu))"
   ]
  },
  {
   "cell_type": "code",
   "execution_count": 37,
   "id": "510f2de0",
   "metadata": {},
   "outputs": [
    {
     "name": "stdout",
     "output_type": "stream",
     "text": [
      "{3}\n"
     ]
    }
   ],
   "source": [
    "old_stu = {1,2,3}\n",
    "new_stu = {1,3,4,7,9}\n",
    "print(new_stu.intersection(old_stu).intersection({3,8}))"
   ]
  },
  {
   "cell_type": "code",
   "execution_count": 38,
   "id": "bd643255",
   "metadata": {},
   "outputs": [
    {
     "name": "stdout",
     "output_type": "stream",
     "text": [
      "False\n"
     ]
    }
   ],
   "source": [
    "old_stu = {1,2,3}\n",
    "new_stu = {1,3,4,7,9}\n",
    "print(new_stu.isdisjoint(old_stu))"
   ]
  },
  {
   "cell_type": "code",
   "execution_count": 39,
   "id": "021671d6",
   "metadata": {},
   "outputs": [
    {
     "name": "stdout",
     "output_type": "stream",
     "text": [
      "False\n"
     ]
    }
   ],
   "source": [
    "old_stu = {1,2,3}\n",
    "new_stu = {1,3,4,7,9}\n",
    "print(new_stu.issubset(old_stu))"
   ]
  },
  {
   "cell_type": "code",
   "execution_count": 40,
   "id": "b314d3dd",
   "metadata": {},
   "outputs": [
    {
     "name": "stdout",
     "output_type": "stream",
     "text": [
      "False\n"
     ]
    }
   ],
   "source": [
    "old_stu = {1,2,3}\n",
    "new_stu = {1,3,4,7,9}\n",
    "print(new_stu.issuperset(old_stu))"
   ]
  },
  {
   "cell_type": "code",
   "execution_count": 52,
   "id": "2b90471b",
   "metadata": {},
   "outputs": [
    {
     "name": "stdout",
     "output_type": "stream",
     "text": [
      "1\n",
      "3\n",
      "4\n",
      "7\n",
      "9\n"
     ]
    }
   ],
   "source": [
    "old_stu = {1,2,3}\n",
    "new_stu = {1,3,4,7,9}\n",
    "print(new_stu.pop())  # remove from last position\n",
    "print(new_stu.pop())\n",
    "print(new_stu.pop())\n",
    "print(new_stu.pop())\n",
    "print(new_stu.pop())"
   ]
  },
  {
   "cell_type": "code",
   "execution_count": 53,
   "id": "c69a9ead",
   "metadata": {},
   "outputs": [
    {
     "name": "stdout",
     "output_type": "stream",
     "text": [
      "{1, 3, 7, 9}\n"
     ]
    }
   ],
   "source": [
    "new_stu = {1,3,4,7,9}\n",
    "new_stu.remove(4) # search & then remove it\n",
    "print(new_stu)"
   ]
  },
  {
   "cell_type": "code",
   "execution_count": 54,
   "id": "eea4544f",
   "metadata": {},
   "outputs": [
    {
     "name": "stdout",
     "output_type": "stream",
     "text": [
      "{1, 3, 4, 20, 7, 9, 10}\n"
     ]
    }
   ],
   "source": [
    "new_stu = {1,3,4,7,9}\n",
    "new_stu.update({10,20})\n",
    "print(new_stu)"
   ]
  },
  {
   "cell_type": "markdown",
   "id": "0fac1bf0",
   "metadata": {},
   "source": [
    "# dictionary"
   ]
  },
  {
   "cell_type": "code",
   "execution_count": 55,
   "id": "d85a7972",
   "metadata": {},
   "outputs": [
    {
     "name": "stdout",
     "output_type": "stream",
     "text": [
      "{'name': 'Shahzad', 'fname': 'Khan', 'course': 'AI', 'timing': '9 pm to 12 am'}\n"
     ]
    }
   ],
   "source": [
    "data = {\n",
    "    #key  :  value\n",
    "    \"name\":'Shahzad',\n",
    "    'fname':'Khan',\n",
    "    'course':'AI',\n",
    "    'timing':'9 pm to 12 am'\n",
    "}\n",
    "\n",
    "print(data)"
   ]
  },
  {
   "cell_type": "code",
   "execution_count": 56,
   "id": "7c4d2138",
   "metadata": {},
   "outputs": [
    {
     "name": "stdout",
     "output_type": "stream",
     "text": [
      "9 pm to 12 am\n"
     ]
    }
   ],
   "source": [
    "data = {\n",
    "    #key  :  value\n",
    "    \"name\":'Shahzad',\n",
    "    'fname':'Khan',\n",
    "    'course':'AI',\n",
    "    'timing':'9 pm to 12 am'\n",
    "}\n",
    "\n",
    "print(data['timing'])"
   ]
  },
  {
   "cell_type": "code",
   "execution_count": 57,
   "id": "460757f8",
   "metadata": {},
   "outputs": [
    {
     "name": "stdout",
     "output_type": "stream",
     "text": [
      "dict_keys(['name', 'fname', 'course', 'timing'])\n"
     ]
    }
   ],
   "source": [
    "data = {\n",
    "    #key  :  value\n",
    "    \"name\":'Shahzad',\n",
    "    'fname':'Khan',\n",
    "    'course':'AI',\n",
    "    'timing':'9 pm to 12 am'\n",
    "}\n",
    "print(data.keys())"
   ]
  },
  {
   "cell_type": "code",
   "execution_count": 58,
   "id": "2422a569",
   "metadata": {},
   "outputs": [
    {
     "name": "stdout",
     "output_type": "stream",
     "text": [
      "dict_values(['Shahzad', 'Khan', 'AI', '9 pm to 12 am'])\n"
     ]
    }
   ],
   "source": [
    "data = {\n",
    "    #key  :  value\n",
    "    \"name\":'Shahzad',\n",
    "    'fname':'Khan',\n",
    "    'course':'AI',\n",
    "    'timing':'9 pm to 12 am'\n",
    "}\n",
    "print(data.values())"
   ]
  },
  {
   "cell_type": "code",
   "execution_count": 59,
   "id": "d055fbc4",
   "metadata": {},
   "outputs": [
    {
     "name": "stdout",
     "output_type": "stream",
     "text": [
      "dict_items([('name', 'Shahzad'), ('fname', 'Khan'), ('course', 'AI'), ('timing', '9 pm to 12 am')])\n"
     ]
    }
   ],
   "source": [
    "data = {\n",
    "    #key  :  value\n",
    "    \"name\":'Shahzad',\n",
    "    'fname':'Khan',\n",
    "    'course':'AI',\n",
    "    'timing':'9 pm to 12 am'\n",
    "}\n",
    "print(data.items())"
   ]
  },
  {
   "cell_type": "code",
   "execution_count": 66,
   "id": "e68b5768",
   "metadata": {},
   "outputs": [
    {
     "name": "stdout",
     "output_type": "stream",
     "text": [
      "{'name': 'Akram', 'fname': 'Khan', 'course': 'AI', 'timing': '9 pm to 12 am'}\n"
     ]
    }
   ],
   "source": [
    "data1 = data\n",
    "data1['name'] = 'Akram'\n",
    "print(data)\n",
    "print(data1)"
   ]
  },
  {
   "cell_type": "code",
   "execution_count": 72,
   "id": "2732971f",
   "metadata": {},
   "outputs": [],
   "source": [
    "data.get(\"name\")\n",
    "data.get(\"address\")"
   ]
  },
  {
   "cell_type": "code",
   "execution_count": 73,
   "id": "0586f936",
   "metadata": {},
   "outputs": [
    {
     "data": {
      "text/plain": [
       "{'id': 1, 'name': 'Shahzad', 'timings': '9 pm to 10 pm'}"
      ]
     },
     "execution_count": 73,
     "metadata": {},
     "output_type": "execute_result"
    }
   ],
   "source": [
    "data = {}\n",
    "data['id'] = 1\n",
    "data['name'] ='Shahzad'\n",
    "data['timings'] = '9 pm to 10 pm'\n",
    "data"
   ]
  },
  {
   "cell_type": "code",
   "execution_count": 74,
   "id": "a0b7292b",
   "metadata": {},
   "outputs": [
    {
     "data": {
      "text/plain": [
       "'AI'"
      ]
     },
     "execution_count": 74,
     "metadata": {},
     "output_type": "execute_result"
    }
   ],
   "source": [
    "data.setdefault('course', 'AI')"
   ]
  },
  {
   "cell_type": "code",
   "execution_count": 75,
   "id": "f9fd10f0",
   "metadata": {},
   "outputs": [
    {
     "data": {
      "text/plain": [
       "1"
      ]
     },
     "execution_count": 75,
     "metadata": {},
     "output_type": "execute_result"
    }
   ],
   "source": [
    "data.setdefault('id')"
   ]
  },
  {
   "cell_type": "code",
   "execution_count": 79,
   "id": "3d3ff846",
   "metadata": {},
   "outputs": [
    {
     "ename": "SyntaxError",
     "evalue": "unexpected EOF while parsing (506548439.py, line 2)",
     "output_type": "error",
     "traceback": [
      "\u001b[1;36m  Input \u001b[1;32mIn [79]\u001b[1;36m\u001b[0m\n\u001b[1;33m    print(data.pop('id')\u001b[0m\n\u001b[1;37m                        ^\u001b[0m\n\u001b[1;31mSyntaxError\u001b[0m\u001b[1;31m:\u001b[0m unexpected EOF while parsing\n"
     ]
    }
   ],
   "source": [
    "print(data)\n",
    "print(data.pop('id')"
   ]
  },
  {
   "cell_type": "code",
   "execution_count": 80,
   "id": "f93f1f72",
   "metadata": {},
   "outputs": [
    {
     "data": {
      "text/plain": [
       "{'id': 26, 'name': 'Shahzad'}"
      ]
     },
     "execution_count": 80,
     "metadata": {},
     "output_type": "execute_result"
    }
   ],
   "source": [
    "data1 = {'id':20,\n",
    "         'name':'Shahzad',\n",
    "         'id':26}\n",
    "data1"
   ]
  },
  {
   "cell_type": "code",
   "execution_count": null,
   "id": "58ba6922",
   "metadata": {},
   "outputs": [],
   "source": []
  }
 ],
 "metadata": {
  "kernelspec": {
   "display_name": "Python 3 (ipykernel)",
   "language": "python",
   "name": "python3"
  },
  "language_info": {
   "codemirror_mode": {
    "name": "ipython",
    "version": 3
   },
   "file_extension": ".py",
   "mimetype": "text/x-python",
   "name": "python",
   "nbconvert_exporter": "python",
   "pygments_lexer": "ipython3",
   "version": "3.9.12"
  }
 },
 "nbformat": 4,
 "nbformat_minor": 5
}
