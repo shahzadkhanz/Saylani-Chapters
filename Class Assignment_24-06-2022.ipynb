{
 "cells": [
  {
   "cell_type": "code",
   "execution_count": 11,
   "id": "b8a0fb03",
   "metadata": {},
   "outputs": [
    {
     "name": "stdout",
     "output_type": "stream",
     "text": [
      "Enter User Name: Shahzad\n",
      "Enter Password: bbb123\n",
      "Valid User\n",
      "Valid User\n",
      "Valid User\n",
      "Valid User\n",
      "Valid User\n"
     ]
    }
   ],
   "source": [
    "list = [[\"Shahzad\", \"AAA123\"],[\"Shakir\", \"BBB321\"],[\"Akram\", \"CCC456\"],[\"Khan\", \"DDD654\"],[\"Mohsin\", \"EEE123\"]]\n",
    "user_name = input(\"Enter User Name: \")\n",
    "pass_wor = input(\"Enter Password: \")\n",
    "if \"Enter User Name: Shahzad\" and \"Enter Password: AAA123\":\n",
    "    print(\"Valid User\")\n",
    "#elif \"Enter User Name: Shakir\" and \"Enter Password: BBB321\":\n",
    "    print(\"Valid User\")\n",
    "#elif \"Enter User Name: Akram\" and \"Enter Password: CCC456\":\n",
    "    print(\"Valid User\")\n",
    "#elif \"Enter User Name: Khan\" and \"Enter Password: DDD654\":\n",
    "    print(\"Valid User\")\n",
    "#elif \"Enter User Name: Mohsin\" and \"Enter Password: EEE123\":\n",
    "    print(\"Valid User\")    \n",
    "else:\n",
    "    print(\"In Valid User\")"
   ]
  },
  {
   "cell_type": "code",
   "execution_count": 17,
   "id": "5114ab47",
   "metadata": {},
   "outputs": [
    {
     "name": "stdout",
     "output_type": "stream",
     "text": [
      "Enter User Name: Shahzad\n",
      "Enter Password: AAA123\n",
      "User is not Valid\n"
     ]
    }
   ],
   "source": [
    "list = [\"Shahzad\", \"AAA123\",\"Shakir\", \"BBB321\",\"Akram\", \"CCC456\",\"Khan\", \"DDD654\",\"Mohsin\", \"EEE123\"]\n",
    "user = input(\"Enter User Name: \")\n",
    "passw = input(\"Enter Password: \")\n",
    "\n",
    "z = \"User is not Valid\"\n",
    "\n",
    "for x in list:\n",
    "    if user == [0] and passw ==[1]:\n",
    "        z = \"Valid User: \" + x[1]\n",
    "        break\n",
    "        \n",
    "print(z)"
   ]
  },
  {
   "cell_type": "code",
   "execution_count": 2,
   "id": "718b7ce0",
   "metadata": {},
   "outputs": [
    {
     "name": "stdout",
     "output_type": "stream",
     "text": [
      "Enter User Name: Shahzad\n",
      "Enter Password: AAA123\n",
      "Invalid User\n"
     ]
    }
   ],
   "source": [
    "list = [\"Shahzad\",\"AAA123\",\"Shakir\",\"BBB321\",\"Akram\",\"CCC456\",\"Khan\",\"DDD654\",\"Mohsin\",\"EEE123\"]\n",
    "user = input(\"Enter User Name: \")\n",
    "passw = input(\"Enter Password: \")\n",
    "\n",
    "for x in list:\n",
    "    if user == [0] and passw == [1]:\n",
    "        print(\"Valid User\")\n",
    "else:\n",
    "    print(\"Invalid User\")"
   ]
  },
  {
   "cell_type": "code",
   "execution_count": 16,
   "id": "198e8be5",
   "metadata": {},
   "outputs": [
    {
     "name": "stdout",
     "output_type": "stream",
     "text": [
      "Enter User Name: Karim\n",
      "Enter Password: BBB321\n",
      "Invalid User\n"
     ]
    }
   ],
   "source": [
    "list = [\"Shahzad\",\"AAA123\",\"Shakir\",\"BBB321\",\"Akram\",\"CCC456\",\"Khan\",\"DDD654\",\"Mohsin\",\"EEE123\"]\n",
    "user = input(\"Enter User Name: \")\n",
    "passw = input(\"Enter Password: \")\n",
    "if list[0] == user and list[1] == passw:\n",
    "    print(\"Valid User\")\n",
    "elif list[2] == user and list[3] == passw:\n",
    "    print(\"Valid User\")\n",
    "elif list[4] == user and list[5] == passw:\n",
    "    print(\"Valid User\")\n",
    "elif list[6] == user and list[7] == passw:\n",
    "    print(\"Valid User\")\n",
    "elif list[8] == user and list[9] == passw:\n",
    "    print(\"Valid User\")  \n",
    "else:\n",
    "    print(\"Invalid User\")"
   ]
  },
  {
   "cell_type": "code",
   "execution_count": null,
   "id": "9aede8e6",
   "metadata": {},
   "outputs": [],
   "source": []
  }
 ],
 "metadata": {
  "kernelspec": {
   "display_name": "Python 3 (ipykernel)",
   "language": "python",
   "name": "python3"
  },
  "language_info": {
   "codemirror_mode": {
    "name": "ipython",
    "version": 3
   },
   "file_extension": ".py",
   "mimetype": "text/x-python",
   "name": "python",
   "nbconvert_exporter": "python",
   "pygments_lexer": "ipython3",
   "version": "3.9.12"
  }
 },
 "nbformat": 4,
 "nbformat_minor": 5
}
