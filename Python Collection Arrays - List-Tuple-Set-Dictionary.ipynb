{
 "cells": [
  {
   "cell_type": "markdown",
   "id": "722b3b07",
   "metadata": {},
   "source": [
    "# Python Collections (Arrays)\n",
    " ### List:\n",
    "         List is a collection which is ordered and changeable. Allows duplicate members.\n",
    " ### Tuple:\n",
    "         Tuple is a collection which is ordered and unchangeable. Allows duplicate members.\n",
    " ### Set:\n",
    "         Set is a collection which is unordered, unchangeable*, and unindexed. No duplicate members.\n",
    "### Dictionary:\n",
    "         Dictionary is a collection which is ordered** and changeable. No duplicate members."
   ]
  },
  {
   "cell_type": "code",
   "execution_count": 7,
   "id": "51b66dc7",
   "metadata": {},
   "outputs": [
    {
     "name": "stdout",
     "output_type": "stream",
     "text": [
      "['apple', 'banana', 'orange', 'cherry']\n"
     ]
    }
   ],
   "source": [
    "this_list = ['apple', 'banana', 'orange', 'cherry']\n",
    "print(this_list)"
   ]
  },
  {
   "cell_type": "code",
   "execution_count": 12,
   "id": "24e9e209",
   "metadata": {},
   "outputs": [
    {
     "name": "stdout",
     "output_type": "stream",
     "text": [
      "['apple', 'banana', 'orange', 'cherry', 'apple', 'cherry']\n",
      "banana\n",
      "['banana', 'orange', 'cherry']\n",
      "['apple', 'banana', 'orange', 'cherry', 'apple']\n",
      "apple\n"
     ]
    }
   ],
   "source": [
    "this_list = ['apple', 'banana', 'orange', 'cherry','apple','cherry']\n",
    "print(this_list) # ordered / duplicate values\n",
    "print(this_list[1])\n",
    "print(this_list[1:4])\n",
    "print(this_list[0:5])\n",
    "print(this_list[-2])"
   ]
  },
  {
   "cell_type": "code",
   "execution_count": 18,
   "id": "473736ed",
   "metadata": {},
   "outputs": [
    {
     "name": "stdout",
     "output_type": "stream",
     "text": [
      "['apple', 'banana', 'orange', 'cherry', 'apple']\n",
      "['apple', 'banana', 'orange', 'cherry', 'apple', 'cherry']\n",
      "['orange', 'cherry', 'apple']\n"
     ]
    }
   ],
   "source": [
    "thislist = [\"apple\", \"banana\", \"cherry\", \"orange\", \"kiwi\", \"melon\", \"mango\"]\n",
    "print(this_list[:5]) # Consider 0 starting point when there is no value before collen\n",
    "print(this_list[0:])# Consider last index point when there is no value after collen\n",
    "print(this_list[-4:-1])"
   ]
  },
  {
   "cell_type": "code",
   "execution_count": null,
   "id": "a3c4088a",
   "metadata": {},
   "outputs": [],
   "source": []
  }
 ],
 "metadata": {
  "kernelspec": {
   "display_name": "Python 3 (ipykernel)",
   "language": "python",
   "name": "python3"
  },
  "language_info": {
   "codemirror_mode": {
    "name": "ipython",
    "version": 3
   },
   "file_extension": ".py",
   "mimetype": "text/x-python",
   "name": "python",
   "nbconvert_exporter": "python",
   "pygments_lexer": "ipython3",
   "version": "3.9.12"
  }
 },
 "nbformat": 4,
 "nbformat_minor": 5
}
