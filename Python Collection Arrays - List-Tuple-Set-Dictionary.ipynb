{
 "cells": [
  {
   "cell_type": "markdown",
   "id": "64aee4c7",
   "metadata": {},
   "source": [
    "# Python Collections (Arrays)\n",
    " ### List = mutable (can change)\n",
    "         List is a collection which is ordered and changeable. Allows duplicate members.\n",
    "         x = [\"apple\", \"banana\", \"cherry\"]\n",
    "        \n",
    " ### Tuple = Immutable (can not change)\n",
    "         Tuple is a collection which is ordered and unchangeable. Allows duplicate members.\n",
    "         x = (\"apple\", \"banana\", \"cherry\") \n",
    "    \n",
    " ### Set:\n",
    "         Set is a collection which is unordered, unchangeable*, and unindexed. No duplicate members.\n",
    "         x = {\"apple\", \"banana\", \"cherry\"}\n",
    "    \n",
    "### Dictionary:\n",
    "         Dictionary is a collection which is ordered** and changeable. No duplicate members.\n",
    "         x = {\"name\" : \"John\", \"age\" : 36}"
   ]
  },
  {
   "cell_type": "markdown",
   "id": "1c7420c2",
   "metadata": {},
   "source": [
    "## List"
   ]
  },
  {
   "cell_type": "code",
   "execution_count": 11,
   "id": "51b66dc7",
   "metadata": {},
   "outputs": [
    {
     "name": "stdout",
     "output_type": "stream",
     "text": [
      "['apple', 'banana', 'orange', 'cherry']\n",
      "<class 'list'>\n"
     ]
    }
   ],
   "source": [
    "this_list = ['apple', 'banana', 'orange', 'cherry']\n",
    "print(this_list)\n",
    "print(type(this_list))"
   ]
  },
  {
   "cell_type": "code",
   "execution_count": 12,
   "id": "24e9e209",
   "metadata": {},
   "outputs": [
    {
     "name": "stdout",
     "output_type": "stream",
     "text": [
      "['apple', 'banana', 'orange', 'cherry', 'apple', 'cherry']\n",
      "banana\n",
      "['banana', 'orange', 'cherry']\n",
      "['apple', 'banana', 'orange', 'cherry', 'apple']\n",
      "apple\n"
     ]
    }
   ],
   "source": [
    "this_list = ['apple', 'banana', 'orange', 'cherry','apple','cherry']\n",
    "print(this_list) # ordered / duplicate values\n",
    "print(this_list[1])\n",
    "print(this_list[1:4])\n",
    "print(this_list[0:5])\n",
    "print(this_list[-2])"
   ]
  },
  {
   "cell_type": "code",
   "execution_count": 20,
   "id": "473736ed",
   "metadata": {},
   "outputs": [
    {
     "name": "stdout",
     "output_type": "stream",
     "text": [
      "['apple', 'banana', 'orange', 'cherry']\n",
      "['apple', 'banana', 'orange', 'cherry']\n"
     ]
    }
   ],
   "source": [
    "thislist = [\"apple\", \"banana\", \"cherry\", \"orange\", \"kiwi\", \"melon\", \"mango\"]\n",
    "print(this_list[:5]) # Consider 0 starting point when there is no value before collen\n",
    "print(this_list[0:]) # Consider last index point when there is no value after collen"
   ]
  },
  {
   "cell_type": "code",
   "execution_count": 8,
   "id": "a3c4088a",
   "metadata": {},
   "outputs": [
    {
     "name": "stdout",
     "output_type": "stream",
     "text": [
      "['apple', 'banana', 'cherry', 'orange', 'kiwi', 'melon', 'mango', 'Pineapple']\n"
     ]
    }
   ],
   "source": [
    "a = [\"apple\", \"banana\", \"cherry\", \"orange\", \"kiwi\", \"melon\", \"mango\"]\n",
    "a.append(\"Pineapple\") # use append function to add new item in end of list\n",
    "a.remove(\"banana\") # use remove function to remove any particuler item from list permanently\n",
    "a.insert(1, \"banana\") # use insert function to add new item in list\n",
    "print(a)"
   ]
  },
  {
   "cell_type": "code",
   "execution_count": 14,
   "id": "971380da",
   "metadata": {},
   "outputs": [
    {
     "name": "stdout",
     "output_type": "stream",
     "text": [
      "<class 'list'>\n"
     ]
    }
   ],
   "source": [
    "thislist = list((\"apple\", \"banana\", \"cherry\", \"orange\", \"kiwi\", \"melon\", \"mango\")) \n",
    "print(type(thislist))  # can also create list through list() constructor"
   ]
  },
  {
   "cell_type": "code",
   "execution_count": 11,
   "id": "936055c1",
   "metadata": {},
   "outputs": [
    {
     "name": "stdout",
     "output_type": "stream",
     "text": [
      "[0, 1, 3, 5, 11, 20, 72, 56, 67, 32]\n"
     ]
    }
   ],
   "source": [
    "num = [1, 5, 11, 0, 3, 20]\n",
    "num.reverse() # reverse the sequence\n",
    "num.sort() # sort from smaller to larger in original list\n",
    "num.append(72) # append number\n",
    "num.append(56) # append number\n",
    "num.append(67) # append number\n",
    "num.append(32) # append number\n",
    "print(num)"
   ]
  },
  {
   "cell_type": "code",
   "execution_count": 20,
   "id": "ac918514",
   "metadata": {},
   "outputs": [
    {
     "name": "stdout",
     "output_type": "stream",
     "text": [
      "[1, 2, 5, 20, 30]\n"
     ]
    }
   ],
   "source": [
    "num = []\n",
    "num.append(20) # append number\n",
    "num.append(5) # append number\n",
    "num.append(2) # append number\n",
    "num.append(30) # append number\n",
    "num.insert(0, 1) # insert 1 on index 0\n",
    "num.sort() # then sort the list\n",
    "print(num)"
   ]
  },
  {
   "cell_type": "code",
   "execution_count": 21,
   "id": "741e8680",
   "metadata": {},
   "outputs": [
    {
     "name": "stdout",
     "output_type": "stream",
     "text": [
      "yes, 'apple' in the fruit list\n"
     ]
    }
   ],
   "source": [
    "thislist = [\"apple\", \"banana\", \"cherry\"]\n",
    "if \"apple\" in thislist:\n",
    "    print(\"yes, 'apple' in the fruit list\")"
   ]
  },
  {
   "cell_type": "code",
   "execution_count": 22,
   "id": "0a861c56",
   "metadata": {},
   "outputs": [
    {
     "name": "stdout",
     "output_type": "stream",
     "text": [
      "['apple', 'Kiwi', 'cherry']\n"
     ]
    }
   ],
   "source": [
    "thislist = [\"apple\", \"banana\", \"cherry\"]\n",
    "thislist[1] = \"Kiwi\"\n",
    "print(thislist)"
   ]
  },
  {
   "cell_type": "code",
   "execution_count": 25,
   "id": "524dfa1b",
   "metadata": {},
   "outputs": [
    {
     "name": "stdout",
     "output_type": "stream",
     "text": [
      "['Kiwi', 'oranges', 'melon', 'cherry']\n"
     ]
    }
   ],
   "source": [
    "thislist = [\"apple\", \"banana\", \"cherry\"]\n",
    "thislist[1:2] = \"Kiwi\", \"oranges\", \"melon\"\n",
    "print(thislist)"
   ]
  },
  {
   "cell_type": "code",
   "execution_count": 28,
   "id": "e9a2530e",
   "metadata": {},
   "outputs": [
    {
     "name": "stdout",
     "output_type": "stream",
     "text": [
      "['Kiwi', 'oranges', 'melon', 'cherry']\n"
     ]
    }
   ],
   "source": [
    "thislist = [\"apple\", \"banana\", \"cherry\"]\n",
    "thislist[-3:-1] = \"Kiwi\", \"oranges\", \"melon\"\n",
    "print(thislist)"
   ]
  },
  {
   "cell_type": "code",
   "execution_count": 2,
   "id": "6d7ed51a",
   "metadata": {},
   "outputs": [
    {
     "name": "stdout",
     "output_type": "stream",
     "text": [
      "['apple', 'melon', 'banana', 'cherry']\n"
     ]
    }
   ],
   "source": [
    "thislist = [\"apple\", \"banana\", \"cherry\"]\n",
    "thislist.insert(1, \"melon\")\n",
    "print(thislist)"
   ]
  },
  {
   "cell_type": "code",
   "execution_count": 4,
   "id": "01c885d8",
   "metadata": {},
   "outputs": [
    {
     "name": "stdout",
     "output_type": "stream",
     "text": [
      "['apple', 'banana', 'cherry', 'melon']\n"
     ]
    }
   ],
   "source": [
    "thislist = [\"apple\", \"banana\", \"cherry\"]\n",
    "thislist.append(\"melon\")\n",
    "print(thislist)"
   ]
  },
  {
   "cell_type": "code",
   "execution_count": 6,
   "id": "db8e0beb",
   "metadata": {},
   "outputs": [
    {
     "name": "stdout",
     "output_type": "stream",
     "text": [
      "['apple', 'banana', 'cherry', 'mango', 'pineapple', 'papaya']\n"
     ]
    }
   ],
   "source": [
    "list1 = [\"apple\", \"banana\", \"cherry\"]\n",
    "list2 = [\"mango\", \"pineapple\", \"papaya\"]\n",
    "list1.extend(list2)\n",
    "print(list1)"
   ]
  },
  {
   "cell_type": "code",
   "execution_count": 7,
   "id": "af54c137",
   "metadata": {},
   "outputs": [
    {
     "name": "stdout",
     "output_type": "stream",
     "text": [
      "['apple', 'cherry']\n"
     ]
    }
   ],
   "source": [
    "list = [\"apple\", \"banana\", \"cherry\"]\n",
    "list.remove(\"banana\") # use remove function to remove item\n",
    "print(list)"
   ]
  },
  {
   "cell_type": "code",
   "execution_count": 8,
   "id": "0fadd67b",
   "metadata": {},
   "outputs": [
    {
     "name": "stdout",
     "output_type": "stream",
     "text": [
      "['apple', 'banana']\n"
     ]
    }
   ],
   "source": [
    "list = [\"apple\", \"banana\", \"cherry\"]\n",
    "list.pop(2) # use pop function to remove item through index number\n",
    "print(list)"
   ]
  },
  {
   "cell_type": "code",
   "execution_count": 9,
   "id": "5f5f0c9e",
   "metadata": {},
   "outputs": [
    {
     "name": "stdout",
     "output_type": "stream",
     "text": [
      "['apple', 'banana']\n"
     ]
    }
   ],
   "source": [
    "list = [\"apple\", \"banana\", \"cherry\"]\n",
    "list.pop()\n",
    "print(list)"
   ]
  },
  {
   "cell_type": "markdown",
   "id": "2a24a69a",
   "metadata": {},
   "source": [
    "## Tuple"
   ]
  },
  {
   "cell_type": "code",
   "execution_count": 48,
   "id": "0c9901c2",
   "metadata": {},
   "outputs": [
    {
     "name": "stdout",
     "output_type": "stream",
     "text": [
      "2\n"
     ]
    }
   ],
   "source": [
    "tp = (\"apple\", \"banana\", \"cherry\", \"apple\") # tuple comprises of round bracket\n",
    "# tp[1] = 8  can not change values of tuple so found error\n",
    "# a = tp.count(\"apple\") count function counts \"apple\" in tuple set\n",
    "# b = tp.index(\"cherry\") index function check indexing\n",
    "print(b)"
   ]
  },
  {
   "cell_type": "markdown",
   "id": "bce2dd88",
   "metadata": {},
   "source": [
    "## Dictionary - is nothing but key value pairs"
   ]
  },
  {
   "cell_type": "code",
   "execution_count": 68,
   "id": "a84e1981",
   "metadata": {},
   "outputs": [
    {
     "name": "stdout",
     "output_type": "stream",
     "text": [
      "{'Shahzad': 'Burger', 'Aamir': 'Broast', 'Zain': 'Biryani', 'Zubair': 'Sandwitch', 'Shakir': 'Egg'}\n"
     ]
    }
   ],
   "source": [
    "d1 = {}\n",
    "# print(type(d1))\n",
    "d2 = {\"Shahzad\":\"Burger\", \"Aamir\":\"Broast\", \"Zain\":\"Biryani\",\"Zubair\":\"Sandwitch\"}\n",
    "# print(d2)\n",
    "# d2[\"Shahid\"] = \"Haleem\" adding Shahid : Haleem in dictionary\n",
    "# del d2[\"Zain\"] delete Zain : Biryani from dictionary\n",
    "# print(d2[\"Shahzad\"]) print key \"Shahzad\" vale \"Burger\"\n",
    "# print(d2.keys()) return values are \"keys\"\n",
    "# print(d2.items()) return key value pairs\n",
    "# d3 = d2 if we delete any key from d3 it automatically delete from d2\n",
    "# del d3[\"Zubair\"]\n",
    "# d3 = d2.copy() copy all key value pair of d2 to d3 \n",
    "# del d3[\"Zubair\"] now delet key \"Zubair\" from d3 and print d2 shallow copy is availble of \"Zubair\" in d2\n",
    "# d2.update({\"Shakir\":\"Egg\"}) update key value pair in d2\n",
    "print(d2)\n"
   ]
  },
  {
   "cell_type": "markdown",
   "id": "ceaeddbb",
   "metadata": {},
   "source": [
    "## Python Loop List\n",
    "\n",
    "### for loop"
   ]
  },
  {
   "cell_type": "code",
   "execution_count": 18,
   "id": "026fa8a1",
   "metadata": {},
   "outputs": [
    {
     "name": "stdout",
     "output_type": "stream",
     "text": [
      "apple\n",
      "banana\n",
      "cherry\n"
     ]
    }
   ],
   "source": [
    "list = [\"apple\", \"banana\", \"cherry\"]\n",
    "for x in list:\n",
    "    print(x)"
   ]
  },
  {
   "cell_type": "code",
   "execution_count": 16,
   "id": "1171ac0b",
   "metadata": {},
   "outputs": [
    {
     "ename": "IndentationError",
     "evalue": "expected an indented block (2319265287.py, line 5)",
     "output_type": "error",
     "traceback": [
      "\u001b[1;36m  Input \u001b[1;32mIn [16]\u001b[1;36m\u001b[0m\n\u001b[1;33m    print(x, y)\u001b[0m\n\u001b[1;37m               ^\u001b[0m\n\u001b[1;31mIndentationError\u001b[0m\u001b[1;31m:\u001b[0m expected an indented block\n"
     ]
    }
   ],
   "source": []
  },
  {
   "cell_type": "code",
   "execution_count": 16,
   "id": "86b202b5",
   "metadata": {},
   "outputs": [
    {
     "name": "stdout",
     "output_type": "stream",
     "text": [
      "apple\n",
      "banana\n",
      "cherry\n"
     ]
    }
   ],
   "source": [
    "list = [\"apple\", \"banana\", \"cherry\"]\n",
    "# for x in list:\n",
    "# print(x)\n",
    "\n",
    "for i in range(len(list)):\n",
    "    print(list[i])\n"
   ]
  },
  {
   "cell_type": "code",
   "execution_count": 23,
   "id": "54210470",
   "metadata": {},
   "outputs": [
    {
     "name": "stdout",
     "output_type": "stream",
     "text": [
      "1 Shahzad\n",
      "1 Khan\n",
      "1 Akram\n",
      "1 Elahi\n",
      "2 Shahzad\n",
      "2 Khan\n",
      "2 Akram\n",
      "2 Elahi\n",
      "3 Shahzad\n",
      "3 Khan\n",
      "3 Akram\n",
      "3 Elahi\n",
      "4 Shahzad\n",
      "4 Khan\n",
      "4 Akram\n",
      "4 Elahi\n"
     ]
    }
   ],
   "source": [
    "for x in \"1\", \"2\", \"3\", \"4\":\n",
    "    for y in \"Shahzad\", \"Khan\", \"Akram\", \"Elahi\":\n",
    "        print(x, y)\n",
    "  "
   ]
  },
  {
   "cell_type": "markdown",
   "id": "f39d7942",
   "metadata": {},
   "source": [
    "### The Break Statement\n",
    "\n",
    "   - With the break statement we can stop the loop before it has looped through all the items:"
   ]
  },
  {
   "cell_type": "code",
   "execution_count": 37,
   "id": "9cf37f11",
   "metadata": {},
   "outputs": [
    {
     "name": "stdout",
     "output_type": "stream",
     "text": [
      "apple\n",
      "banana\n",
      "cherry\n",
      "orange\n"
     ]
    }
   ],
   "source": [
    "fruits = [\"apple\", \"banana\", \"cherry\", \"orange\", \"melon\", \"pineapple\"]\n",
    "for x in fruits:\n",
    "    print(x)\n",
    "    if x == \"orange\":\n",
    "        break\n",
    "        \n",
    "#fruits = [\"apple\", 2, \"banana\", 5, \"cherry\", 3, \"orange\", 9, \"melon\", 11, \"pineapple\", 15]\n",
    "#for fruit in fruits:\n",
    " #   print(fruit)\n",
    "  #  if x == \"melon, 11\":\n",
    "   \n",
    "    #break"
   ]
  },
  {
   "cell_type": "code",
   "execution_count": 30,
   "id": "43fdcd9b",
   "metadata": {},
   "outputs": [
    {
     "name": "stdout",
     "output_type": "stream",
     "text": [
      "Name: \tShahzad Khan\n",
      "Father's Name: \tShabbir Khan\n",
      "Roll Number: \t2810008\n",
      "\n",
      "Name: Shahzad Khan\n",
      "Father's Name: Shabbir Khan\n",
      "Roll No: 2810008\n",
      "\n",
      "\n"
     ]
    }
   ],
   "source": [
    "a = input(\"Name: \\t\" )\n",
    "b = input(\"Father's Name: \\t\" )\n",
    "c = input(\"Roll Number: \\t\" )\n",
    "admit_card = f\"\"\"\n",
    "Name: {a}\\nFather's Name: {b}\\nRoll No: {c}\n",
    "\n",
    "\"\"\"\n",
    "print(admit_card)\n",
    "\n"
   ]
  },
  {
   "cell_type": "code",
   "execution_count": null,
   "id": "c0be51c7",
   "metadata": {},
   "outputs": [],
   "source": []
  }
 ],
 "metadata": {
  "kernelspec": {
   "display_name": "Python 3 (ipykernel)",
   "language": "python",
   "name": "python3"
  },
  "language_info": {
   "codemirror_mode": {
    "name": "ipython",
    "version": 3
   },
   "file_extension": ".py",
   "mimetype": "text/x-python",
   "name": "python",
   "nbconvert_exporter": "python",
   "pygments_lexer": "ipython3",
   "version": "3.9.12"
  }
 },
 "nbformat": 4,
 "nbformat_minor": 5
}
